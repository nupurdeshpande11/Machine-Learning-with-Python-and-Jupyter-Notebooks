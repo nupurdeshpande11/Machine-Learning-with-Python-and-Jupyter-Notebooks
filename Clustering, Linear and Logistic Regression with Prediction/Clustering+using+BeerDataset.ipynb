{
 "cells": [
  {
   "cell_type": "code",
   "execution_count": 3,
   "metadata": {
    "collapsed": true
   },
   "outputs": [],
   "source": [
    "# This Python 3 environment comes with many helpful analytics libraries installed\n",
    "# It is defined by the kaggle/python docker image: https://github.com/kaggle/docker-python\n",
    "# For example, here's several helpful packages to load in \n",
    "\n",
    "\n",
    "%matplotlib inline\n",
    "import matplotlib.pyplot as plt\n",
    "import numpy as np\n",
    "import seaborn as sns\n",
    "import scipy as sp\n",
    "import pandas as pd\n",
    "from sklearn import datasets\n",
    "from numpy import linalg as LA\n",
    "from sklearn.metrics.pairwise import pairwise_distances\n",
    "import sys\n",
    "from subprocess import check_output\n",
    "# Input data files are available in the \"../input/\" directory.\n",
    "# For example, running this (by clicking run or pressing Shift+Enter) will list the files in the input directory\n",
    "\n",
    "from subprocess import check_output"
   ]
  },
  {
   "cell_type": "code",
   "execution_count": 4,
   "metadata": {},
   "outputs": [
    {
     "name": "stdout",
     "output_type": "stream",
     "text": [
      "   Unnamed: 0_x    abv  ibu    id               name_x  \\\n",
      "0             0  0.050  NaN  1436             Pub Beer   \n",
      "1             1  0.066  NaN  2265          Devil's Cup   \n",
      "2             2  0.071  NaN  2264  Rise of the Phoenix   \n",
      "3             3  0.090  NaN  2263             Sinister   \n",
      "4             4  0.075  NaN  2262        Sex and Candy   \n",
      "\n",
      "                            style  brewery_id  ounces  domestic  \\\n",
      "0             American Pale Lager         408    12.0       NaN   \n",
      "1         American Pale Ale (APA)         177    12.0       NaN   \n",
      "2                    American IPA         177    12.0       NaN   \n",
      "3  American Double / Imperial IPA         177    12.0       NaN   \n",
      "4                    American IPA         177    12.0       NaN   \n",
      "\n",
      "   international  Unnamed: 0_y                     name_y  city state  \n",
      "0            NaN           408  10 Barrel Brewing Company  Bend    OR  \n",
      "1            NaN           177        18th Street Brewery  Gary    IN  \n",
      "2            NaN           177        18th Street Brewery  Gary    IN  \n",
      "3            NaN           177        18th Street Brewery  Gary    IN  \n",
      "4            NaN           177        18th Street Brewery  Gary    IN  \n"
     ]
    }
   ],
   "source": [
    "df_beer = pd.read_csv(r\"C:\\Users\\nupur\\Desktop\\input\\beers.csv\")\n",
    "df_brew = pd.read_csv(r\"C:\\Users\\nupur\\Desktop\\input\\breweries.csv\")\n",
    "\n",
    "df_brew['brewery_id'] = df_brew.index\n",
    "\n",
    "df = df_beer.merge(df_brew, on=\"brewery_id\")\n",
    "print(df.head())"
   ]
  },
  {
   "cell_type": "code",
   "execution_count": 4,
   "metadata": {},
   "outputs": [
    {
     "name": "stdout",
     "output_type": "stream",
     "text": [
      "   abv  ibu    id            beer_name                           style  \\\n",
      "0  5.0  NaN  1436             Pub Beer             American Pale Lager   \n",
      "1  6.6  NaN  2265          Devil's Cup         American Pale Ale (APA)   \n",
      "2  7.1  NaN  2264  Rise of the Phoenix                    American IPA   \n",
      "3  9.0  NaN  2263             Sinister  American Double / Imperial IPA   \n",
      "4  7.5  NaN  2262        Sex and Candy                    American IPA   \n",
      "\n",
      "   brewery_id  ounces               brewery_name  city state  \n",
      "0         408    12.0  10 Barrel Brewing Company  Bend    OR  \n",
      "1         177    12.0        18th Street Brewery  Gary    IN  \n",
      "2         177    12.0        18th Street Brewery  Gary    IN  \n",
      "3         177    12.0        18th Street Brewery  Gary    IN  \n",
      "4         177    12.0        18th Street Brewery  Gary    IN  \n"
     ]
    }
   ],
   "source": [
    "df = df.rename(index=str, columns={\"name_x\":\"beer_name\", \"name_y\":\"brewery_name\"})\n",
    "\n",
    "## these 2 columns are just the index as well as the brewery ID repeated\n",
    "df = df.drop(['Unnamed: 0_x', 'Unnamed: 0_y'], axis=1)\n",
    "## Make ABV a percentage for readability in the plots\n",
    "df['abv'] = df['abv']*100\n",
    "print(df.head())"
   ]
  },
  {
   "cell_type": "code",
   "execution_count": 9,
   "metadata": {},
   "outputs": [
    {
     "name": "stdout",
     "output_type": "stream",
     "text": [
      "    abv   ibu    id                             beer_name  \\\n",
      "14  6.1  60.0  1979                          Bitter Bitch   \n",
      "21  9.9  92.0  1036                         Lower De Boom   \n",
      "22  7.9  45.0  1024                         Fireside Chat   \n",
      "24  4.4  42.0   876                       Bitter American   \n",
      "25  4.9  17.0   802  Hell or High Watermelon Wheat (2009)   \n",
      "\n",
      "                      style  brewery_id  ounces            brewery_name  \\\n",
      "14  American Pale Ale (APA)         177    12.0     18th Street Brewery   \n",
      "21      American Barleywine         368     8.4  21st Amendment Brewery   \n",
      "22            Winter Warmer         368    12.0  21st Amendment Brewery   \n",
      "24  American Pale Ale (APA)         368    12.0  21st Amendment Brewery   \n",
      "25   Fruit / Vegetable Beer         368    12.0  21st Amendment Brewery   \n",
      "\n",
      "             city state  \n",
      "14           Gary    IN  \n",
      "21  San Francisco    CA  \n",
      "22  San Francisco    CA  \n",
      "24  San Francisco    CA  \n",
      "25  San Francisco    CA  \n"
     ]
    }
   ],
   "source": [
    "df=df.dropna(how='any')\n",
    "print(df.head())"
   ]
  },
  {
   "cell_type": "code",
   "execution_count": 20,
   "metadata": {
    "collapsed": true
   },
   "outputs": [],
   "source": [
    "%matplotlib inline\n",
    "from copy import deepcopy"
   ]
  },
  {
   "cell_type": "code",
   "execution_count": 11,
   "metadata": {
    "collapsed": true
   },
   "outputs": [],
   "source": [
    "from matplotlib import pyplot as plt"
   ]
  },
  {
   "cell_type": "code",
   "execution_count": 12,
   "metadata": {
    "collapsed": true
   },
   "outputs": [],
   "source": [
    "import sklearn\n",
    "from sklearn.cluster import KMeans\n",
    "from mpl_toolkits.mplot3d import Axes3D\n",
    "from sklearn.preprocessing import scale\n"
   ]
  },
  {
   "cell_type": "code",
   "execution_count": 15,
   "metadata": {
    "collapsed": true
   },
   "outputs": [],
   "source": [
    "import sklearn.metrics as sm\n",
    "from sklearn import datasets\n",
    "from sklearn.metrics import confusion_matrix,classification_report\n"
   ]
  },
  {
   "cell_type": "code",
   "execution_count": 22,
   "metadata": {},
   "outputs": [
    {
     "data": {
      "text/plain": [
       "abv             float64\n",
       "ibu             float64\n",
       "id                int64\n",
       "beer_name        object\n",
       "style            object\n",
       "brewery_id        int64\n",
       "ounces          float64\n",
       "brewery_name     object\n",
       "city             object\n",
       "state            object\n",
       "dtype: object"
      ]
     },
     "execution_count": 22,
     "metadata": {},
     "output_type": "execute_result"
    }
   ],
   "source": [
    "df.dtypes"
   ]
  },
  {
   "cell_type": "code",
   "execution_count": 23,
   "metadata": {
    "collapsed": true
   },
   "outputs": [],
   "source": [
    "df['id']=df.id.astype(float)\n",
    "df['brewery_id ']=df.brewery_id.astype(float)"
   ]
  },
  {
   "cell_type": "code",
   "execution_count": 24,
   "metadata": {},
   "outputs": [
    {
     "data": {
      "text/plain": [
       "abv             float64\n",
       "ibu             float64\n",
       "id              float64\n",
       "beer_name        object\n",
       "style            object\n",
       "brewery_id        int64\n",
       "ounces          float64\n",
       "brewery_name     object\n",
       "city             object\n",
       "state            object\n",
       "brewery_id      float64\n",
       "dtype: object"
      ]
     },
     "execution_count": 24,
     "metadata": {},
     "output_type": "execute_result"
    }
   ],
   "source": [
    "df.dtypes"
   ]
  },
  {
   "cell_type": "code",
   "execution_count": 33,
   "metadata": {},
   "outputs": [
    {
     "data": {
      "text/plain": [
       "KMeans(algorithm='auto', copy_x=True, init='k-means++', max_iter=300,\n",
       "    n_clusters=3, n_init=10, n_jobs=1, precompute_distances='auto',\n",
       "    random_state=0, tol=0.0001, verbose=0)"
      ]
     },
     "execution_count": 33,
     "metadata": {},
     "output_type": "execute_result"
    }
   ],
   "source": [
    "clustering = KMeans(n_clusters=3,random_state=0)\n",
    "clustering"
   ]
  },
  {
   "cell_type": "code",
   "execution_count": 28,
   "metadata": {
    "collapsed": true
   },
   "outputs": [],
   "source": [
    "X=scale(df.ibu)"
   ]
  },
  {
   "cell_type": "code",
   "execution_count": 32,
   "metadata": {},
   "outputs": [
    {
     "data": {
      "text/plain": [
       "<matplotlib.collections.PathCollection at 0x1f9aa0b6278>"
      ]
     },
     "execution_count": 32,
     "metadata": {},
     "output_type": "execute_result"
    },
    {
     "data": {
      "image/png": "[encoded data removed]",
      "text/plain": [
       "<matplotlib.figure.Figure at 0x1f9a9de0438>"
      ]
     },
     "metadata": {},
     "output_type": "display_data"
    }
   ],
   "source": [
    "plt.scatter(x= df.ibu,y=df.brewery_id)"
   ]
  },
  {
   "cell_type": "code",
   "execution_count": 38,
   "metadata": {},
   "outputs": [
    {
     "data": {
      "text/plain": [
       "KMeans(algorithm='auto', copy_x=True, init='k-means++', max_iter=300,\n",
       "    n_clusters=3, n_init=10, n_jobs=1, precompute_distances='auto',\n",
       "    random_state=0, tol=0.0001, verbose=0)"
      ]
     },
     "execution_count": 38,
     "metadata": {},
     "output_type": "execute_result"
    }
   ],
   "source": [
    "clustering.fit(df[[\"ibu\",\"id\"]])"
   ]
  },
  {
   "cell_type": "code",
   "execution_count": 40,
   "metadata": {},
   "outputs": [
    {
     "data": {
      "text/plain": [
       "KMeans(algorithm='auto', copy_x=True, init='k-means++', max_iter=300,\n",
       "    n_clusters=3, n_init=10, n_jobs=1, precompute_distances='auto',\n",
       "    random_state=0, tol=0.0001, verbose=0)"
      ]
     },
     "execution_count": 40,
     "metadata": {},
     "output_type": "execute_result"
    }
   ],
   "source": [
    "clustering.fit(df[[\"ibu\",\"abv\",\"id\"]])"
   ]
  },
  {
   "cell_type": "code",
   "execution_count": 41,
   "metadata": {
    "collapsed": true
   },
   "outputs": [],
   "source": [
    "clustering_colors = ['red' if c == 0 else 'orange' if c == 2 else 'blue' for c in clustering.labels_]"
   ]
  },
  {
   "cell_type": "code",
   "execution_count": 44,
   "metadata": {},
   "outputs": [
    {
     "data": {
      "text/plain": [
       "Text(0.5,1,'Clustering by ibu and abv')"
      ]
     },
     "execution_count": 44,
     "metadata": {},
     "output_type": "execute_result"
    },
    {
     "data": {
      "image/png": "[encoded data removed]",
      "text/plain": [
       "<matplotlib.figure.Figure at 0x1f9aa0b6710>"
      ]
     },
     "metadata": {},
     "output_type": "display_data"
    }
   ],
   "source": [
    "plt.scatter(x=\"ibu\",y=\"id\", data=df,\n",
    "            alpha=0.25,color = clustering_colors)\n",
    "plt.xlabel(\"ibu\")\n",
    "plt.ylabel(\"abv\")\n",
    "plt.scatter(x=clustering.cluster_centers_[:,0],y=clustering.cluster_centers_[:,1],color=\"black\",marker=\"X\",s=100)\n",
    "plt.title(\"Clustering by ibu and abv\") "
   ]
  },
  {
   "cell_type": "code",
   "execution_count": 46,
   "metadata": {
    "collapsed": true
   },
   "outputs": [],
   "source": [
    "df['style'] = pd.to_numeric(df['style'], errors='coerce')"
   ]
  },
  {
   "cell_type": "code",
   "execution_count": 54,
   "metadata": {
    "collapsed": true
   },
   "outputs": [],
   "source": [
    "df['style'] = df['style'].astype(str)"
   ]
  },
  {
   "cell_type": "code",
   "execution_count": 57,
   "metadata": {
    "scrolled": true
   },
   "outputs": [
    {
     "data": {
      "text/plain": [
       "abv             float64\n",
       "ibu             float64\n",
       "id              float64\n",
       "beer_name        object\n",
       "style            object\n",
       "brewery_id        int64\n",
       "ounces          float64\n",
       "brewery_name     object\n",
       "city             object\n",
       "state            object\n",
       "brewery_id      float64\n",
       "dtype: object"
      ]
     },
     "execution_count": 57,
     "metadata": {},
     "output_type": "execute_result"
    }
   ],
   "source": [
    "df.dtypes"
   ]
  },
  {
   "cell_type": "code",
   "execution_count": 58,
   "metadata": {
    "collapsed": true
   },
   "outputs": [],
   "source": [
    "df['style'] = pd.to_numeric(df['style'], errors='coerce')"
   ]
  },
  {
   "cell_type": "code",
   "execution_count": 59,
   "metadata": {},
   "outputs": [
    {
     "data": {
      "text/plain": [
       "abv             float64\n",
       "ibu             float64\n",
       "id              float64\n",
       "beer_name        object\n",
       "style           float64\n",
       "brewery_id        int64\n",
       "ounces          float64\n",
       "brewery_name     object\n",
       "city             object\n",
       "state            object\n",
       "brewery_id      float64\n",
       "dtype: object"
      ]
     },
     "execution_count": 59,
     "metadata": {},
     "output_type": "execute_result"
    }
   ],
   "source": [
    "df.dtypes"
   ]
  },
  {
   "cell_type": "code",
   "execution_count": null,
   "metadata": {
    "collapsed": true
   },
   "outputs": [],
   "source": []
  },
  {
   "cell_type": "code",
   "execution_count": 64,
   "metadata": {},
   "outputs": [
    {
     "data": {
      "text/html": [
       "<div>\n",
       "<style>\n",
       "    .dataframe thead tr:only-child th {\n",
       "        text-align: right;\n",
       "    }\n",
       "\n",
       "    .dataframe thead th {\n",
       "        text-align: left;\n",
       "    }\n",
       "\n",
       "    .dataframe tbody tr th {\n",
       "        vertical-align: top;\n",
       "    }\n",
       "</style>\n",
       "<table border=\"1\" class=\"dataframe\">\n",
       "  <thead>\n",
       "    <tr style=\"text-align: right;\">\n",
       "      <th></th>\n",
       "      <th>abv</th>\n",
       "      <th>ibu</th>\n",
       "      <th>style</th>\n",
       "      <th>brewery_id</th>\n",
       "    </tr>\n",
       "  </thead>\n",
       "  <tbody>\n",
       "    <tr>\n",
       "      <th>14</th>\n",
       "      <td>6.1</td>\n",
       "      <td>60.0</td>\n",
       "      <td>NaN</td>\n",
       "      <td>177.0</td>\n",
       "    </tr>\n",
       "    <tr>\n",
       "      <th>21</th>\n",
       "      <td>9.9</td>\n",
       "      <td>92.0</td>\n",
       "      <td>NaN</td>\n",
       "      <td>368.0</td>\n",
       "    </tr>\n",
       "    <tr>\n",
       "      <th>22</th>\n",
       "      <td>7.9</td>\n",
       "      <td>45.0</td>\n",
       "      <td>NaN</td>\n",
       "      <td>368.0</td>\n",
       "    </tr>\n",
       "    <tr>\n",
       "      <th>24</th>\n",
       "      <td>4.4</td>\n",
       "      <td>42.0</td>\n",
       "      <td>NaN</td>\n",
       "      <td>368.0</td>\n",
       "    </tr>\n",
       "    <tr>\n",
       "      <th>25</th>\n",
       "      <td>4.9</td>\n",
       "      <td>17.0</td>\n",
       "      <td>NaN</td>\n",
       "      <td>368.0</td>\n",
       "    </tr>\n",
       "  </tbody>\n",
       "</table>\n",
       "</div>"
      ],
      "text/plain": [
       "    abv   ibu  style  brewery_id \n",
       "14  6.1  60.0    NaN        177.0\n",
       "21  9.9  92.0    NaN        368.0\n",
       "22  7.9  45.0    NaN        368.0\n",
       "24  4.4  42.0    NaN        368.0\n",
       "25  4.9  17.0    NaN        368.0"
      ]
     },
     "execution_count": 64,
     "metadata": {},
     "output_type": "execute_result"
    }
   ],
   "source": [
    "df.head()"
   ]
  },
  {
   "cell_type": "code",
   "execution_count": 68,
   "metadata": {
    "collapsed": true
   },
   "outputs": [],
   "source": [
    "df.drop(['style'],axis=1,inplace=True)"
   ]
  },
  {
   "cell_type": "code",
   "execution_count": 69,
   "metadata": {},
   "outputs": [
    {
     "data": {
      "text/html": [
       "<div>\n",
       "<style>\n",
       "    .dataframe thead tr:only-child th {\n",
       "        text-align: right;\n",
       "    }\n",
       "\n",
       "    .dataframe thead th {\n",
       "        text-align: left;\n",
       "    }\n",
       "\n",
       "    .dataframe tbody tr th {\n",
       "        vertical-align: top;\n",
       "    }\n",
       "</style>\n",
       "<table border=\"1\" class=\"dataframe\">\n",
       "  <thead>\n",
       "    <tr style=\"text-align: right;\">\n",
       "      <th></th>\n",
       "      <th>abv</th>\n",
       "      <th>ibu</th>\n",
       "      <th>brewery_id</th>\n",
       "    </tr>\n",
       "  </thead>\n",
       "  <tbody>\n",
       "    <tr>\n",
       "      <th>14</th>\n",
       "      <td>6.1</td>\n",
       "      <td>60.0</td>\n",
       "      <td>177.0</td>\n",
       "    </tr>\n",
       "    <tr>\n",
       "      <th>21</th>\n",
       "      <td>9.9</td>\n",
       "      <td>92.0</td>\n",
       "      <td>368.0</td>\n",
       "    </tr>\n",
       "    <tr>\n",
       "      <th>22</th>\n",
       "      <td>7.9</td>\n",
       "      <td>45.0</td>\n",
       "      <td>368.0</td>\n",
       "    </tr>\n",
       "    <tr>\n",
       "      <th>24</th>\n",
       "      <td>4.4</td>\n",
       "      <td>42.0</td>\n",
       "      <td>368.0</td>\n",
       "    </tr>\n",
       "    <tr>\n",
       "      <th>25</th>\n",
       "      <td>4.9</td>\n",
       "      <td>17.0</td>\n",
       "      <td>368.0</td>\n",
       "    </tr>\n",
       "  </tbody>\n",
       "</table>\n",
       "</div>"
      ],
      "text/plain": [
       "    abv   ibu  brewery_id \n",
       "14  6.1  60.0        177.0\n",
       "21  9.9  92.0        368.0\n",
       "22  7.9  45.0        368.0\n",
       "24  4.4  42.0        368.0\n",
       "25  4.9  17.0        368.0"
      ]
     },
     "execution_count": 69,
     "metadata": {},
     "output_type": "execute_result"
    }
   ],
   "source": [
    "df.head()"
   ]
  },
  {
   "cell_type": "code",
   "execution_count": 70,
   "metadata": {},
   "outputs": [
    {
     "data": {
      "text/plain": [
       "KMeans(algorithm='auto', copy_x=True, init='k-means++', max_iter=300,\n",
       "    n_clusters=3, n_init=10, n_jobs=1, precompute_distances='auto',\n",
       "    random_state=0, tol=0.0001, verbose=0)"
      ]
     },
     "execution_count": 70,
     "metadata": {},
     "output_type": "execute_result"
    }
   ],
   "source": [
    "clustering.fit(df)"
   ]
  },
  {
   "cell_type": "code",
   "execution_count": 81,
   "metadata": {
    "scrolled": true
   },
   "outputs": [
    {
     "data": {
      "text/plain": [
       "KMeans(algorithm='auto', copy_x=True, init='k-means++', max_iter=300,\n",
       "    n_clusters=3, n_init=10, n_jobs=1, precompute_distances='auto',\n",
       "    random_state=0, tol=0.0001, verbose=0)"
      ]
     },
     "execution_count": 81,
     "metadata": {},
     "output_type": "execute_result"
    }
   ],
   "source": [
    "clust = KMeans(n_clusters=3,random_state=0)\n",
    "clust.fit(df)"
   ]
  },
  {
   "cell_type": "code",
   "execution_count": 5,
   "metadata": {},
   "outputs": [
    {
     "data": {
      "text/plain": [
       "<matplotlib.collections.PathCollection at 0x217f7ee7908>"
      ]
     },
     "execution_count": 5,
     "metadata": {},
     "output_type": "execute_result"
    },
    {
     "data": {
      "image/png": "[encoded data removed]",
      "text/plain": [
       "<matplotlib.figure.Figure at 0x217f7c26ac8>"
      ]
     },
     "metadata": {},
     "output_type": "display_data"
    }
   ],
   "source": [
    "\n",
    "#Our Dataset taking data from first few breweries\n",
    "data = np.array([60.0,177.0,92.0,368.0,82.0,67.0,18.0,60.0,45.0,27.0,75.0,481.0,35.0,374.0,115.0,72.0,69.0,37.0,22.0,360.0,75.0,34.0]).reshape(11,2)\n",
    "fig = plt.figure()\n",
    "fig.suptitle('Scatter Plot for clusters')\n",
    "ax = fig.add_subplot(1,1,1)\n",
    "ax.set_xlabel('X')\n",
    "ax.set_ylabel('Y')\n",
    "ax.scatter(data[:,0],data[:,1])"
   ]
  },
  {
   "cell_type": "code",
   "execution_count": 6,
   "metadata": {
    "collapsed": true
   },
   "outputs": [],
   "source": [
    "def hierarchical_clustering(data,linkage,no_of_clusters):  \n",
    "    #first step is to calculate the initial distance matrix\n",
    "    #it consists distances from all the point to all the point\n",
    "    color = ['r','g','b','y','c','m','k','w']\n",
    "    initial_distances = pairwise_distances(data,metric='euclidean')\n",
    "    #making all the diagonal elements infinity \n",
    "    np.fill_diagonal(initial_distances,sys.maxsize)\n",
    "    clusters = find_clusters(initial_distances,linkage) \n",
    "    \n",
    "    #plotting the clusters\n",
    "    iteration_number = initial_distances.shape[0] - no_of_clusters\n",
    "    clusters_to_plot = clusters[iteration_number]\n",
    "    arr = np.unique(clusters_to_plot)\n",
    "    \n",
    "    indices_to_plot = []\n",
    "    fig = plt.figure()\n",
    "    fig.suptitle('Scatter Plot for clusters')\n",
    "    ax = fig.add_subplot(1,1,1)\n",
    "    ax.set_xlabel('X')\n",
    "    ax.set_ylabel('Y')\n",
    "    for x in np.nditer(arr):\n",
    "        indices_to_plot.append(np.where(clusters_to_plot==x))\n",
    "    p=0\n",
    "    \n",
    "    print(clusters_to_plot)\n",
    "    for i in range(0,len(indices_to_plot)):\n",
    "        for j in np.nditer(indices_to_plot[i]):\n",
    "               ax.scatter(data[j,0],data[j,1], c= color[p])\n",
    "        p = p + 1\n",
    "        \n",
    "    plt.show()"
   ]
  },
  {
   "cell_type": "code",
   "execution_count": 7,
   "metadata": {
    "collapsed": true
   },
   "outputs": [],
   "source": [
    "def find_clusters(input,linkage):\n",
    "    clusters = {}\n",
    "    row_index = -1\n",
    "    col_index = -1\n",
    "    array = []\n",
    "    \n",
    "\n",
    "    for n in range(input.shape[0]):\n",
    "        array.append(n)\n",
    "        \n",
    "    clusters[0] = array.copy()\n",
    "\n",
    "    #finding minimum value from the distance matrix\n",
    "    #note that this loop will always return minimum value from bottom triangle of matrix\n",
    "    for k in range(1, input.shape[0]):\n",
    "        min_val = sys.maxsize\n",
    "        \n",
    "        for i in range(0, input.shape[0]):\n",
    "            for j in range(0, input.shape[1]):\n",
    "                if(input[i][j]<=min_val):\n",
    "                    min_val = input[i][j]\n",
    "                    row_index = i\n",
    "                    col_index = j\n",
    "                    \n",
    "        #once we find the minimum value, we need to update the distance matrix\n",
    "        #updating the matrix by calculating the new distances from the cluster to all points\n",
    "        \n",
    "        #for Single Linkage\n",
    "        if(linkage == \"single\" or linkage ==\"Single\"):\n",
    "            for i in range(0,input.shape[0]):\n",
    "                if(i != col_index):\n",
    "                    #we calculate the distance of every data point from newly formed cluster and update the matrix.\n",
    "                    temp = min(input[col_index][i],input[row_index][i])\n",
    "                    #we update the matrix symmetrically as our distance matrix should always be symmetric\n",
    "                    input[col_index][i] = temp\n",
    "                    input[i][col_index] = temp\n",
    "        #for Complete Linkage\n",
    "        elif(linkage==\"Complete\" or linkage == \"complete\"):\n",
    "             for i in range(0,input.shape[0]):\n",
    "                if(i != col_index and i!=row_index):\n",
    "                    temp = min(input[col_index][i],input[row_index][i])\n",
    "                    input[col_index][i] = temp\n",
    "                    input[i][col_index] = temp\n",
    "        #for Average Linkage\n",
    "        elif(linkage==\"Average\" or linkage == \"average\"):\n",
    "             for i in range(0,input.shape[0]):\n",
    "                if(i != col_index and i!=row_index):\n",
    "                    temp = (input[col_index][i]+input[row_index][i])/2\n",
    "                    input[col_index][i] = temp\n",
    "                    input[i][col_index] = temp\n",
    "        \n",
    "        elif(linkage==\"Centroid\" or linkage ==\"centroid\"):\n",
    "            for i in range(0,input.shape[0]):\n",
    "                if(i!=col_index and i!=row_index):\n",
    "                    dist_centroid = cal_dist_from_centroid(i,row_index,col_index)\n",
    "                    input[col_index][i] = dist_centroid\n",
    "                    input[i][col_index] = dist_centroid\n",
    "                   \n",
    "        #set the rows and columns for the cluster with higher index i.e. the row index to infinity\n",
    "        #Set input[row_index][for_all_i] = infinity\n",
    "        #set input[for_all_i][row_index] = infinity\n",
    "        for i in range (0,input.shape[0]):\n",
    "            input[row_index][i] = sys.maxsize\n",
    "            input[i][row_index] = sys.maxsize\n",
    "            \n",
    "        #Manipulating the dictionary to keep track of cluster formation in each step\n",
    "        #if k=0,then all datapoints are clusters\n",
    "       \n",
    "        minimum = min(row_index,col_index)\n",
    "        maximum = max(row_index,col_index)\n",
    "        for n in range(len(array)):\n",
    "            if(array[n]==maximum):\n",
    "                array[n] = minimum\n",
    "        clusters[k] = array.copy()\n",
    "        \n",
    "    return clusters"
   ]
  },
  {
   "cell_type": "code",
   "execution_count": 8,
   "metadata": {},
   "outputs": [
    {
     "name": "stdout",
     "output_type": "stream",
     "text": [
      "[0, 1, 2, 3, 2, 5, 6, 2, 2, 6, 2]\n"
     ]
    },
    {
     "data": {
      "image/png": "[encoded data removed]",
      "text/plain": [
       "<matplotlib.figure.Figure at 0x217f7c00d30>"
      ]
     },
     "metadata": {},
     "output_type": "display_data"
    }
   ],
   "source": [
    "hierarchical_clustering(data,\"single\",6)"
   ]
  },
  {
   "cell_type": "code",
   "execution_count": 9,
   "metadata": {},
   "outputs": [
    {
     "name": "stdout",
     "output_type": "stream",
     "text": [
      "[0, 1, 2, 2, 2, 5, 6, 2, 2, 6, 2]\n"
     ]
    },
    {
     "data": {
      "image/png": "[encoded data removed]",
      "text/plain": [
       "<matplotlib.figure.Figure at 0x217f7fbf6d8>"
      ]
     },
     "metadata": {},
     "output_type": "display_data"
    }
   ],
   "source": [
    "hierarchical_clustering(data,\"single\",5)\n",
    "#you can see that the color of data[2] and data[5] became same, thus they are in same cluster now"
   ]
  },
  {
   "cell_type": "code",
   "execution_count": 10,
   "metadata": {},
   "outputs": [
    {
     "name": "stdout",
     "output_type": "stream",
     "text": [
      "[0, 1, 2, 2, 2, 5, 1, 2, 2, 1, 2]\n"
     ]
    },
    {
     "data": {
      "image/png": "[encoded data removed]",
      "text/plain": [
       "<matplotlib.figure.Figure at 0x217f8746748>"
      ]
     },
     "metadata": {},
     "output_type": "display_data"
    }
   ],
   "source": [
    "hierarchical_clustering(data,\"single\",4)\n",
    "#you can see that the color of data[1] and data[4] also became same in color, thus they are in same cluster now"
   ]
  },
  {
   "cell_type": "code",
   "execution_count": 11,
   "metadata": {},
   "outputs": [
    {
     "name": "stdout",
     "output_type": "stream",
     "text": [
      "[0, 1, 0, 0, 0, 5, 1, 0, 0, 1, 0]\n"
     ]
    },
    {
     "data": {
      "image/png": "[encoded data removed]",
      "text/plain": [
       "<matplotlib.figure.Figure at 0x217f87684e0>"
      ]
     },
     "metadata": {},
     "output_type": "display_data"
    }
   ],
   "source": [
    "hierarchical_clustering(data,\"single\",3)"
   ]
  },
  {
   "cell_type": "code",
   "execution_count": 12,
   "metadata": {},
   "outputs": [
    {
     "name": "stdout",
     "output_type": "stream",
     "text": [
      "[0, 1, 0, 0, 0, 1, 1, 0, 0, 1, 0]\n"
     ]
    },
    {
     "data": {
      "image/png": "[encoded data removed]",
      "text/plain": [
       "<matplotlib.figure.Figure at 0x217f8837128>"
      ]
     },
     "metadata": {},
     "output_type": "display_data"
    }
   ],
   "source": [
    "hierarchical_clustering(data,\"single\",2)"
   ]
  },
  {
   "cell_type": "code",
   "execution_count": 13,
   "metadata": {},
   "outputs": [
    {
     "name": "stdout",
     "output_type": "stream",
     "text": [
      "[0, 0, 0, 0, 0, 0, 0, 0, 0, 0, 0]\n"
     ]
    },
    {
     "data": {
      "image/png": "[encoded data removed]",
      "text/plain": [
       "<matplotlib.figure.Figure at 0x217f88c53c8>"
      ]
     },
     "metadata": {},
     "output_type": "display_data"
    }
   ],
   "source": [
    "hierarchical_clustering(data,\"single\",1)"
   ]
  },
  {
   "cell_type": "code",
   "execution_count": null,
   "metadata": {
    "collapsed": true
   },
   "outputs": [],
   "source": [
    "Answers) The clustering methods generate data for ibu and abv but dont make the same clusters. \n",
    "Scaling increases clustering data points. Hierarchical clustering produces data points of different clusters and makes them all \n",
    "same. The centroids for KMeans all converge. The datapoints in Hierarchical clustering all converge too so we can say that \n",
    "clustering algorithms do not show any patterns or groupings of our data. "
   ]
  }
 ],
 "metadata": {
  "kernelspec": {
   "display_name": "Python 3",
   "language": "python",
   "name": "python3"
  },
  "language_info": {
   "codemirror_mode": {
    "name": "ipython",
    "version": 3
   },
   "file_extension": ".py",
   "mimetype": "text/x-python",
   "name": "python",
   "nbconvert_exporter": "python",
   "pygments_lexer": "ipython3",
   "version": "3.6.3"
  }
 },
 "nbformat": 4,
 "nbformat_minor": 2
}
