{
 "cells": [
  {
   "cell_type": "code",
   "execution_count": 1,
   "metadata": {},
   "outputs": [
    {
     "name": "stdout",
     "output_type": "stream",
     "text": [
      "   Unnamed: 0_x    abv  ibu    id               name_x  \\\n",
      "0             0  0.050  NaN  1436             Pub Beer   \n",
      "1             1  0.066  NaN  2265          Devil's Cup   \n",
      "2             2  0.071  NaN  2264  Rise of the Phoenix   \n",
      "3             3  0.090  NaN  2263             Sinister   \n",
      "4             4  0.075  NaN  2262        Sex and Candy   \n",
      "\n",
      "                            style  brewery_id  ounces  Unnamed: 0_y  \\\n",
      "0             American Pale Lager         408    12.0           408   \n",
      "1         American Pale Ale (APA)         177    12.0           177   \n",
      "2                    American IPA         177    12.0           177   \n",
      "3  American Double / Imperial IPA         177    12.0           177   \n",
      "4                    American IPA         177    12.0           177   \n",
      "\n",
      "                      name_y  city state  \n",
      "0  10 Barrel Brewing Company  Bend    OR  \n",
      "1        18th Street Brewery  Gary    IN  \n",
      "2        18th Street Brewery  Gary    IN  \n",
      "3        18th Street Brewery  Gary    IN  \n",
      "4        18th Street Brewery  Gary    IN  \n",
      "    Unnamed: 0_x    abv   ibu    id                                name_x  \\\n",
      "14            14  0.061  60.0  1979                          Bitter Bitch   \n",
      "21            21  0.099  92.0  1036                         Lower De Boom   \n",
      "22            22  0.079  45.0  1024                         Fireside Chat   \n",
      "24            24  0.044  42.0   876                       Bitter American   \n",
      "25            25  0.049  17.0   802  Hell or High Watermelon Wheat (2009)   \n",
      "\n",
      "                      style  brewery_id  ounces  Unnamed: 0_y  \\\n",
      "14  American Pale Ale (APA)         177    12.0           177   \n",
      "21      American Barleywine         368     8.4           368   \n",
      "22            Winter Warmer         368    12.0           368   \n",
      "24  American Pale Ale (APA)         368    12.0           368   \n",
      "25   Fruit / Vegetable Beer         368    12.0           368   \n",
      "\n",
      "                    name_y           city state  \n",
      "14     18th Street Brewery           Gary    IN  \n",
      "21  21st Amendment Brewery  San Francisco    CA  \n",
      "22  21st Amendment Brewery  San Francisco    CA  \n",
      "24  21st Amendment Brewery  San Francisco    CA  \n",
      "25  21st Amendment Brewery  San Francisco    CA  \n",
      "    abv   ibu      id                             beer_name  style  \\\n",
      "14  6.1  60.0  1979.0                          Bitter Bitch    NaN   \n",
      "21  9.9  92.0  1036.0                         Lower De Boom    NaN   \n",
      "22  7.9  45.0  1024.0                         Fireside Chat    NaN   \n",
      "24  4.4  42.0   876.0                       Bitter American    NaN   \n",
      "25  4.9  17.0   802.0  Hell or High Watermelon Wheat (2009)    NaN   \n",
      "\n",
      "    brewery_id  ounces            brewery_name           city state  \\\n",
      "14         177    12.0     18th Street Brewery           Gary    IN   \n",
      "21         368     8.4  21st Amendment Brewery  San Francisco    CA   \n",
      "22         368    12.0  21st Amendment Brewery  San Francisco    CA   \n",
      "24         368    12.0  21st Amendment Brewery  San Francisco    CA   \n",
      "25         368    12.0  21st Amendment Brewery  San Francisco    CA   \n",
      "\n",
      "    brewery_id   \n",
      "14        177.0  \n",
      "21        368.0  \n",
      "22        368.0  \n",
      "24        368.0  \n",
      "25        368.0  \n"
     ]
    }
   ],
   "source": [
    "# This Python 3 environment comes with many helpful analytics libraries installed\n",
    "# It is defined by the kaggle/python docker image: https://github.com/kaggle/docker-python\n",
    "# For example, here's several helpful packages to load in \n",
    "\n",
    "import numpy as np # linear algebra\n",
    "import pandas as pd # data processing, CSV file I/O (e.g. pd.read_csv)\n",
    "import matplotlib.pyplot as plt\n",
    "# Input data files are available in the \"../input/\" directory.\n",
    "# For example, running this (by clicking run or pressing Shift+Enter) will list the files in the input directory\n",
    "\n",
    "from subprocess import check_output\n",
    "df_beer = pd.read_csv(r\"C:\\Users\\nupur\\Desktop\\input\\beers.csv\")\n",
    "df_brew = pd.read_csv(r\"C:\\Users\\nupur\\Desktop\\input\\breweries.csv\")\n",
    "\n",
    "df_brew['brewery_id'] = df_brew.index\n",
    "\n",
    "df = df_beer.merge(df_brew, on=\"brewery_id\")\n",
    "print(df.head())\n",
    "df=df.dropna(how='any')\n",
    "print(df.head())\n",
    "\n",
    "df['id']=df.id.astype(float)\n",
    "df['brewery_id ']=df.brewery_id.astype(float)\n",
    "df['style'] = pd.to_numeric(df['style'], errors='coerce')\n",
    "df = df.rename(index=str, columns={\"name_x\":\"beer_name\", \"name_y\":\"brewery_name\"})\n",
    "\n",
    "## these 2 columns are just the index as well as the brewery ID repeated\n",
    "df = df.drop(['Unnamed: 0_x', 'Unnamed: 0_y'], axis=1)\n",
    "## Make ABV a percentage for readability in the plots\n",
    "df['abv'] = df['abv']*100\n",
    "print(df.head())\n"
   ]
  },
  {
   "cell_type": "code",
   "execution_count": 2,
   "metadata": {},
   "outputs": [
    {
     "name": "stdout",
     "output_type": "stream",
     "text": [
      "    abv   ibu      id                             beer_name  style  \\\n",
      "14  6.1  60.0  1979.0                          Bitter Bitch    NaN   \n",
      "21  9.9  92.0  1036.0                         Lower De Boom    NaN   \n",
      "22  7.9  45.0  1024.0                         Fireside Chat    NaN   \n",
      "24  4.4  42.0   876.0                       Bitter American    NaN   \n",
      "25  4.9  17.0   802.0  Hell or High Watermelon Wheat (2009)    NaN   \n",
      "\n",
      "    brewery_id  ounces            brewery_name           city state  \\\n",
      "14         177    12.0     18th Street Brewery           Gary    IN   \n",
      "21         368     8.4  21st Amendment Brewery  San Francisco    CA   \n",
      "22         368    12.0  21st Amendment Brewery  San Francisco    CA   \n",
      "24         368    12.0  21st Amendment Brewery  San Francisco    CA   \n",
      "25         368    12.0  21st Amendment Brewery  San Francisco    CA   \n",
      "\n",
      "    brewery_id   \n",
      "14        177.0  \n",
      "21        368.0  \n",
      "22        368.0  \n",
      "24        368.0  \n",
      "25        368.0  \n"
     ]
    }
   ],
   "source": [
    "print(df.head())\n"
   ]
  },
  {
   "cell_type": "code",
   "execution_count": 3,
   "metadata": {},
   "outputs": [
    {
     "name": "stdout",
     "output_type": "stream",
     "text": [
      "     abv   ibu      id                             beer_name  style  \\\n",
      "14  61.0  60.0  1979.0                          Bitter Bitch    NaN   \n",
      "21  99.0  92.0  1036.0                         Lower De Boom    NaN   \n",
      "22  79.0  45.0  1024.0                         Fireside Chat    NaN   \n",
      "24  44.0  42.0   876.0                       Bitter American    NaN   \n",
      "25  49.0  17.0   802.0  Hell or High Watermelon Wheat (2009)    NaN   \n",
      "\n",
      "    brewery_id  ounces            brewery_name           city state  \\\n",
      "14         177    12.0     18th Street Brewery           Gary    IN   \n",
      "21         368     8.4  21st Amendment Brewery  San Francisco    CA   \n",
      "22         368    12.0  21st Amendment Brewery  San Francisco    CA   \n",
      "24         368    12.0  21st Amendment Brewery  San Francisco    CA   \n",
      "25         368    12.0  21st Amendment Brewery  San Francisco    CA   \n",
      "\n",
      "    brewery_id   \n",
      "14        177.0  \n",
      "21        368.0  \n",
      "22        368.0  \n",
      "24        368.0  \n",
      "25        368.0  \n"
     ]
    }
   ],
   "source": [
    "df['abv'] = df['abv']*10\n",
    "print(df.head())"
   ]
  },
  {
   "cell_type": "code",
   "execution_count": 4,
   "metadata": {},
   "outputs": [
    {
     "name": "stderr",
     "output_type": "stream",
     "text": [
      "C:\\Users\\nupur\\Anaconda3\\lib\\site-packages\\statsmodels\\compat\\pandas.py:56: FutureWarning: The pandas.core.datetools module is deprecated and will be removed in a future version. Please use the pandas.tseries module instead.\n",
      "  from pandas.core import datetools\n"
     ]
    },
    {
     "data": {
      "text/plain": [
       "Intercept   -34.067645\n",
       "abv           1.281861\n",
       "dtype: float64"
      ]
     },
     "execution_count": 4,
     "metadata": {},
     "output_type": "execute_result"
    }
   ],
   "source": [
    "from sklearn import datasets, linear_model\n",
    "from sklearn.model_selection import train_test_split\n",
    "%matplotlib inline\n",
    "import statsmodels.formula.api as smf\n",
    "import statsmodels.api as sm\n",
    "from statsmodels.stats.outliers_influence import variance_inflation_factor\n",
    "# create a fitted model in one line\n",
    "lm = smf.ols(formula='ibu ~ abv', data=df).fit()\n",
    "# print the coefficients\n",
    "lm.params\n"
   ]
  },
  {
   "cell_type": "code",
   "execution_count": 5,
   "metadata": {},
   "outputs": [
    {
     "data": {
      "text/plain": [
       "[<matplotlib.lines.Line2D at 0x2943fbcff98>]"
      ]
     },
     "execution_count": 5,
     "metadata": {},
     "output_type": "execute_result"
    },
    {
     "data": {
      "image/png": "[encoded data removed]",
      "text/plain": [
       "<matplotlib.figure.Figure at 0x2943fbe3470>"
      ]
     },
     "metadata": {},
     "output_type": "display_data"
    }
   ],
   "source": [
    "X_new = pd.DataFrame({'abv': [df.abv.min(), df.abv.max()]})\n",
    "X_new.head()\n",
    "\n",
    "import statsmodels.base.model\n",
    "\n",
    "X = df[[\"abv\"]]\n",
    "y = df[[\"ibu\"]]\n",
    "\n",
    "# Fit the linear model\n",
    "model = linear_model.LinearRegression()\n",
    "results = model.fit(X, y)\n",
    "\n",
    "# first, plot the observed data\n",
    "df.plot(kind='scatter', x='abv', y='ibu')\n",
    "preds = results.predict(X_new)\n",
    "# then, plot the least squares line\n",
    "plt.plot(preds, X_new, c='red', linewidth=2)"
   ]
  },
  {
   "cell_type": "code",
   "execution_count": 6,
   "metadata": {
    "collapsed": true
   },
   "outputs": [],
   "source": [
    "#Kolmogorov-Smirnov test\n",
    "from scipy import stats\n"
   ]
  },
  {
   "cell_type": "code",
   "execution_count": 7,
   "metadata": {},
   "outputs": [
    {
     "data": {
      "text/html": [
       "<div>\n",
       "<style>\n",
       "    .dataframe thead tr:only-child th {\n",
       "        text-align: right;\n",
       "    }\n",
       "\n",
       "    .dataframe thead th {\n",
       "        text-align: left;\n",
       "    }\n",
       "\n",
       "    .dataframe tbody tr th {\n",
       "        vertical-align: top;\n",
       "    }\n",
       "</style>\n",
       "<table border=\"1\" class=\"dataframe\">\n",
       "  <thead>\n",
       "    <tr style=\"text-align: right;\">\n",
       "      <th></th>\n",
       "      <th>0</th>\n",
       "      <th>1</th>\n",
       "    </tr>\n",
       "  </thead>\n",
       "  <tbody>\n",
       "    <tr>\n",
       "      <th>Intercept</th>\n",
       "      <td>-38.631955</td>\n",
       "      <td>-29.503335</td>\n",
       "    </tr>\n",
       "    <tr>\n",
       "      <th>abv</th>\n",
       "      <td>1.207570</td>\n",
       "      <td>1.356152</td>\n",
       "    </tr>\n",
       "  </tbody>\n",
       "</table>\n",
       "</div>"
      ],
      "text/plain": [
       "                   0          1\n",
       "Intercept -38.631955 -29.503335\n",
       "abv         1.207570   1.356152"
      ]
     },
     "execution_count": 7,
     "metadata": {},
     "output_type": "execute_result"
    }
   ],
   "source": [
    "# print the confidence intervals for the model coefficients\n",
    "lm.conf_int()"
   ]
  },
  {
   "cell_type": "code",
   "execution_count": 8,
   "metadata": {},
   "outputs": [
    {
     "data": {
      "text/plain": [
       "Intercept     2.811864e-45\n",
       "abv          4.994444e-184\n",
       "dtype: float64"
      ]
     },
     "execution_count": 8,
     "metadata": {},
     "output_type": "execute_result"
    }
   ],
   "source": [
    "# print the p-values for the model coefficients\n",
    "lm.pvalues"
   ]
  },
  {
   "cell_type": "code",
   "execution_count": 9,
   "metadata": {},
   "outputs": [
    {
     "data": {
      "text/plain": [
       "0.44986855092122935"
      ]
     },
     "execution_count": 9,
     "metadata": {},
     "output_type": "execute_result"
    }
   ],
   "source": [
    "# print the R-squared value for the model\n",
    "lm.rsquared"
   ]
  },
  {
   "cell_type": "code",
   "execution_count": 10,
   "metadata": {},
   "outputs": [
    {
     "data": {
      "text/html": [
       "<table class=\"simpletable\">\n",
       "<caption>OLS Regression Results</caption>\n",
       "<tr>\n",
       "  <th>Dep. Variable:</th>           <td>ibu</td>       <th>  R-squared:         </th> <td>   0.450</td> \n",
       "</tr>\n",
       "<tr>\n",
       "  <th>Model:</th>                   <td>OLS</td>       <th>  Adj. R-squared:    </th> <td>   0.449</td> \n",
       "</tr>\n",
       "<tr>\n",
       "  <th>Method:</th>             <td>Least Squares</td>  <th>  F-statistic:       </th> <td>   1146.</td> \n",
       "</tr>\n",
       "<tr>\n",
       "  <th>Date:</th>             <td>Fri, 16 Feb 2018</td> <th>  Prob (F-statistic):</th> <td>4.99e-184</td>\n",
       "</tr>\n",
       "<tr>\n",
       "  <th>Time:</th>                 <td>19:43:17</td>     <th>  Log-Likelihood:    </th> <td> -6140.2</td> \n",
       "</tr>\n",
       "<tr>\n",
       "  <th>No. Observations:</th>      <td>  1403</td>      <th>  AIC:               </th> <td>1.228e+04</td>\n",
       "</tr>\n",
       "<tr>\n",
       "  <th>Df Residuals:</th>          <td>  1401</td>      <th>  BIC:               </th> <td>1.229e+04</td>\n",
       "</tr>\n",
       "<tr>\n",
       "  <th>Df Model:</th>              <td>     1</td>      <th>                     </th>     <td> </td>    \n",
       "</tr>\n",
       "<tr>\n",
       "  <th>Covariance Type:</th>      <td>nonrobust</td>    <th>                     </th>     <td> </td>    \n",
       "</tr>\n",
       "</table>\n",
       "<table class=\"simpletable\">\n",
       "<tr>\n",
       "      <td></td>         <th>coef</th>     <th>std err</th>      <th>t</th>      <th>P>|t|</th>  <th>[0.025</th>    <th>0.975]</th>  \n",
       "</tr>\n",
       "<tr>\n",
       "  <th>Intercept</th> <td>  -34.0676</td> <td>    2.327</td> <td>  -14.642</td> <td> 0.000</td> <td>  -38.632</td> <td>  -29.503</td>\n",
       "</tr>\n",
       "<tr>\n",
       "  <th>abv</th>       <td>    1.2819</td> <td>    0.038</td> <td>   33.848</td> <td> 0.000</td> <td>    1.208</td> <td>    1.356</td>\n",
       "</tr>\n",
       "</table>\n",
       "<table class=\"simpletable\">\n",
       "<tr>\n",
       "  <th>Omnibus:</th>       <td>30.532</td> <th>  Durbin-Watson:     </th> <td>   1.880</td>\n",
       "</tr>\n",
       "<tr>\n",
       "  <th>Prob(Omnibus):</th> <td> 0.000</td> <th>  Jarque-Bera (JB):  </th> <td>  60.989</td>\n",
       "</tr>\n",
       "<tr>\n",
       "  <th>Skew:</th>          <td> 0.075</td> <th>  Prob(JB):          </th> <td>5.71e-14</td>\n",
       "</tr>\n",
       "<tr>\n",
       "  <th>Kurtosis:</th>      <td> 4.010</td> <th>  Cond. No.          </th> <td>    278.</td>\n",
       "</tr>\n",
       "</table>"
      ],
      "text/plain": [
       "<class 'statsmodels.iolib.summary.Summary'>\n",
       "\"\"\"\n",
       "                            OLS Regression Results                            \n",
       "==============================================================================\n",
       "Dep. Variable:                    ibu   R-squared:                       0.450\n",
       "Model:                            OLS   Adj. R-squared:                  0.449\n",
       "Method:                 Least Squares   F-statistic:                     1146.\n",
       "Date:                Fri, 16 Feb 2018   Prob (F-statistic):          4.99e-184\n",
       "Time:                        19:43:17   Log-Likelihood:                -6140.2\n",
       "No. Observations:                1403   AIC:                         1.228e+04\n",
       "Df Residuals:                    1401   BIC:                         1.229e+04\n",
       "Df Model:                           1                                         \n",
       "Covariance Type:            nonrobust                                         \n",
       "==============================================================================\n",
       "                 coef    std err          t      P>|t|      [0.025      0.975]\n",
       "------------------------------------------------------------------------------\n",
       "Intercept    -34.0676      2.327    -14.642      0.000     -38.632     -29.503\n",
       "abv            1.2819      0.038     33.848      0.000       1.208       1.356\n",
       "==============================================================================\n",
       "Omnibus:                       30.532   Durbin-Watson:                   1.880\n",
       "Prob(Omnibus):                  0.000   Jarque-Bera (JB):               60.989\n",
       "Skew:                           0.075   Prob(JB):                     5.71e-14\n",
       "Kurtosis:                       4.010   Cond. No.                         278.\n",
       "==============================================================================\n",
       "\n",
       "Warnings:\n",
       "[1] Standard Errors assume that the covariance matrix of the errors is correctly specified.\n",
       "\"\"\""
      ]
     },
     "execution_count": 10,
     "metadata": {},
     "output_type": "execute_result"
    }
   ],
   "source": [
    "lm.summary()"
   ]
  },
  {
   "cell_type": "code",
   "execution_count": 12,
   "metadata": {},
   "outputs": [
    {
     "data": {
      "text/plain": [
       "<matplotlib.axes._subplots.AxesSubplot at 0x294408315c0>"
      ]
     },
     "execution_count": 12,
     "metadata": {},
     "output_type": "execute_result"
    },
    {
     "data": {
      "image/png": "[encoded data removed]",
      "text/plain": [
       "<matplotlib.figure.Figure at 0x2943b805c88>"
      ]
     },
     "metadata": {},
     "output_type": "display_data"
    }
   ],
   "source": [
    "import seaborn as sns\n",
    "data_corr = df[[\"ibu\",\"abv\" ,\"ounces\", \"brewery_id\"]]\n",
    "\n",
    "sns.heatmap(data_corr.corr())"
   ]
  },
  {
   "cell_type": "code",
   "execution_count": 17,
   "metadata": {},
   "outputs": [
    {
     "data": {
      "text/html": [
       "<div>\n",
       "<style>\n",
       "    .dataframe thead tr:only-child th {\n",
       "        text-align: right;\n",
       "    }\n",
       "\n",
       "    .dataframe thead th {\n",
       "        text-align: left;\n",
       "    }\n",
       "\n",
       "    .dataframe tbody tr th {\n",
       "        vertical-align: top;\n",
       "    }\n",
       "</style>\n",
       "<table border=\"1\" class=\"dataframe\">\n",
       "  <thead>\n",
       "    <tr style=\"text-align: right;\">\n",
       "      <th></th>\n",
       "      <th>abv</th>\n",
       "      <th>ibu</th>\n",
       "      <th>id</th>\n",
       "      <th>beer_name</th>\n",
       "      <th>style</th>\n",
       "      <th>brewery_id</th>\n",
       "      <th>ounces</th>\n",
       "      <th>brewery_name</th>\n",
       "      <th>city</th>\n",
       "      <th>state</th>\n",
       "      <th>brewery_id</th>\n",
       "    </tr>\n",
       "  </thead>\n",
       "  <tbody>\n",
       "    <tr>\n",
       "      <th>14</th>\n",
       "      <td>61.0</td>\n",
       "      <td>60.0</td>\n",
       "      <td>1979.0</td>\n",
       "      <td>Bitter Bitch</td>\n",
       "      <td>NaN</td>\n",
       "      <td>177</td>\n",
       "      <td>12.0</td>\n",
       "      <td>18th Street Brewery</td>\n",
       "      <td>Gary</td>\n",
       "      <td>IN</td>\n",
       "      <td>177.0</td>\n",
       "    </tr>\n",
       "    <tr>\n",
       "      <th>21</th>\n",
       "      <td>99.0</td>\n",
       "      <td>92.0</td>\n",
       "      <td>1036.0</td>\n",
       "      <td>Lower De Boom</td>\n",
       "      <td>NaN</td>\n",
       "      <td>368</td>\n",
       "      <td>8.4</td>\n",
       "      <td>21st Amendment Brewery</td>\n",
       "      <td>San Francisco</td>\n",
       "      <td>CA</td>\n",
       "      <td>368.0</td>\n",
       "    </tr>\n",
       "    <tr>\n",
       "      <th>22</th>\n",
       "      <td>79.0</td>\n",
       "      <td>45.0</td>\n",
       "      <td>1024.0</td>\n",
       "      <td>Fireside Chat</td>\n",
       "      <td>NaN</td>\n",
       "      <td>368</td>\n",
       "      <td>12.0</td>\n",
       "      <td>21st Amendment Brewery</td>\n",
       "      <td>San Francisco</td>\n",
       "      <td>CA</td>\n",
       "      <td>368.0</td>\n",
       "    </tr>\n",
       "    <tr>\n",
       "      <th>24</th>\n",
       "      <td>44.0</td>\n",
       "      <td>42.0</td>\n",
       "      <td>876.0</td>\n",
       "      <td>Bitter American</td>\n",
       "      <td>NaN</td>\n",
       "      <td>368</td>\n",
       "      <td>12.0</td>\n",
       "      <td>21st Amendment Brewery</td>\n",
       "      <td>San Francisco</td>\n",
       "      <td>CA</td>\n",
       "      <td>368.0</td>\n",
       "    </tr>\n",
       "    <tr>\n",
       "      <th>25</th>\n",
       "      <td>49.0</td>\n",
       "      <td>17.0</td>\n",
       "      <td>802.0</td>\n",
       "      <td>Hell or High Watermelon Wheat (2009)</td>\n",
       "      <td>NaN</td>\n",
       "      <td>368</td>\n",
       "      <td>12.0</td>\n",
       "      <td>21st Amendment Brewery</td>\n",
       "      <td>San Francisco</td>\n",
       "      <td>CA</td>\n",
       "      <td>368.0</td>\n",
       "    </tr>\n",
       "  </tbody>\n",
       "</table>\n",
       "</div>"
      ],
      "text/plain": [
       "     abv   ibu      id                             beer_name  style  \\\n",
       "14  61.0  60.0  1979.0                          Bitter Bitch    NaN   \n",
       "21  99.0  92.0  1036.0                         Lower De Boom    NaN   \n",
       "22  79.0  45.0  1024.0                         Fireside Chat    NaN   \n",
       "24  44.0  42.0   876.0                       Bitter American    NaN   \n",
       "25  49.0  17.0   802.0  Hell or High Watermelon Wheat (2009)    NaN   \n",
       "\n",
       "    brewery_id  ounces            brewery_name           city state  \\\n",
       "14         177    12.0     18th Street Brewery           Gary    IN   \n",
       "21         368     8.4  21st Amendment Brewery  San Francisco    CA   \n",
       "22         368    12.0  21st Amendment Brewery  San Francisco    CA   \n",
       "24         368    12.0  21st Amendment Brewery  San Francisco    CA   \n",
       "25         368    12.0  21st Amendment Brewery  San Francisco    CA   \n",
       "\n",
       "    brewery_id   \n",
       "14        177.0  \n",
       "21        368.0  \n",
       "22        368.0  \n",
       "24        368.0  \n",
       "25        368.0  "
      ]
     },
     "execution_count": 17,
     "metadata": {},
     "output_type": "execute_result"
    }
   ],
   "source": [
    "#FROM ABOVE WE SEE THERE IS HIGH CORRELATION BETWEEN ABV AND IBU ONLY. \n",
    "df['abv'] = df['abv']/10\n",
    "df['abv'] = df['abv']*100\n",
    "df.head()"
   ]
  },
  {
   "cell_type": "code",
   "execution_count": 20,
   "metadata": {},
   "outputs": [
    {
     "data": {
      "text/html": [
       "<div>\n",
       "<style>\n",
       "    .dataframe thead tr:only-child th {\n",
       "        text-align: right;\n",
       "    }\n",
       "\n",
       "    .dataframe thead th {\n",
       "        text-align: left;\n",
       "    }\n",
       "\n",
       "    .dataframe tbody tr th {\n",
       "        vertical-align: top;\n",
       "    }\n",
       "</style>\n",
       "<table border=\"1\" class=\"dataframe\">\n",
       "  <thead>\n",
       "    <tr style=\"text-align: right;\">\n",
       "      <th></th>\n",
       "      <th>VIF Factor</th>\n",
       "      <th>features</th>\n",
       "    </tr>\n",
       "  </thead>\n",
       "  <tbody>\n",
       "    <tr>\n",
       "      <th>0</th>\n",
       "      <td>22.9</td>\n",
       "      <td>Intercept</td>\n",
       "    </tr>\n",
       "    <tr>\n",
       "      <th>1</th>\n",
       "      <td>1.0</td>\n",
       "      <td>abv</td>\n",
       "    </tr>\n",
       "    <tr>\n",
       "      <th>2</th>\n",
       "      <td>1.0</td>\n",
       "      <td>brewery_id</td>\n",
       "    </tr>\n",
       "  </tbody>\n",
       "</table>\n",
       "</div>"
      ],
      "text/plain": [
       "   VIF Factor    features\n",
       "0        22.9   Intercept\n",
       "1         1.0         abv\n",
       "2         1.0  brewery_id"
      ]
     },
     "execution_count": 20,
     "metadata": {},
     "output_type": "execute_result"
    }
   ],
   "source": [
    "from patsy import dmatrices\n",
    "y, X = dmatrices('ibu ~ abv + brewery_id', df, return_type='dataframe')\n",
    "vif = pd.DataFrame()\n",
    "vif[\"VIF Factor\"] = [variance_inflation_factor(X.values, i) for i in range(X.shape[1])]\n",
    "vif[\"features\"] = X.columns\n",
    "\n",
    "vif.round(1)"
   ]
  },
  {
   "cell_type": "code",
   "execution_count": 21,
   "metadata": {},
   "outputs": [
    {
     "name": "stdout",
     "output_type": "stream",
     "text": [
      "[-34.30522026] [[  1.28205196e+00   1.01227747e-03]]\n"
     ]
    },
    {
     "data": {
      "text/html": [
       "<table class=\"simpletable\">\n",
       "<caption>OLS Regression Results</caption>\n",
       "<tr>\n",
       "  <th>Dep. Variable:</th>           <td>ibu</td>       <th>  R-squared:         </th> <td>   0.831</td> \n",
       "</tr>\n",
       "<tr>\n",
       "  <th>Model:</th>                   <td>OLS</td>       <th>  Adj. R-squared:    </th> <td>   0.831</td> \n",
       "</tr>\n",
       "<tr>\n",
       "  <th>Method:</th>             <td>Least Squares</td>  <th>  F-statistic:       </th> <td>   3451.</td> \n",
       "</tr>\n",
       "<tr>\n",
       "  <th>Date:</th>             <td>Fri, 16 Feb 2018</td> <th>  Prob (F-statistic):</th>  <td>  0.00</td>  \n",
       "</tr>\n",
       "<tr>\n",
       "  <th>Time:</th>                 <td>20:15:31</td>     <th>  Log-Likelihood:    </th> <td> -6231.2</td> \n",
       "</tr>\n",
       "<tr>\n",
       "  <th>No. Observations:</th>      <td>  1403</td>      <th>  AIC:               </th> <td>1.247e+04</td>\n",
       "</tr>\n",
       "<tr>\n",
       "  <th>Df Residuals:</th>          <td>  1401</td>      <th>  BIC:               </th> <td>1.248e+04</td>\n",
       "</tr>\n",
       "<tr>\n",
       "  <th>Df Model:</th>              <td>     2</td>      <th>                     </th>     <td> </td>    \n",
       "</tr>\n",
       "<tr>\n",
       "  <th>Covariance Type:</th>      <td>nonrobust</td>    <th>                     </th>     <td> </td>    \n",
       "</tr>\n",
       "</table>\n",
       "<table class=\"simpletable\">\n",
       "<tr>\n",
       "       <td></td>         <th>coef</th>     <th>std err</th>      <th>t</th>      <th>P>|t|</th>  <th>[0.025</th>    <th>0.975]</th>  \n",
       "</tr>\n",
       "<tr>\n",
       "  <th>abv</th>        <td>    0.7925</td> <td>    0.015</td> <td>   52.399</td> <td> 0.000</td> <td>    0.763</td> <td>    0.822</td>\n",
       "</tr>\n",
       "<tr>\n",
       "  <th>brewery_id</th> <td>   -0.0145</td> <td>    0.003</td> <td>   -4.214</td> <td> 0.000</td> <td>   -0.021</td> <td>   -0.008</td>\n",
       "</tr>\n",
       "</table>\n",
       "<table class=\"simpletable\">\n",
       "<tr>\n",
       "  <th>Omnibus:</th>       <td>59.176</td> <th>  Durbin-Watson:     </th> <td>   1.896</td>\n",
       "</tr>\n",
       "<tr>\n",
       "  <th>Prob(Omnibus):</th> <td> 0.000</td> <th>  Jarque-Bera (JB):  </th> <td>  65.668</td>\n",
       "</tr>\n",
       "<tr>\n",
       "  <th>Skew:</th>          <td> 0.521</td> <th>  Prob(JB):          </th> <td>5.50e-15</td>\n",
       "</tr>\n",
       "<tr>\n",
       "  <th>Kurtosis:</th>      <td> 3.197</td> <th>  Cond. No.          </th> <td>    7.68</td>\n",
       "</tr>\n",
       "</table>"
      ],
      "text/plain": [
       "<class 'statsmodels.iolib.summary.Summary'>\n",
       "\"\"\"\n",
       "                            OLS Regression Results                            \n",
       "==============================================================================\n",
       "Dep. Variable:                    ibu   R-squared:                       0.831\n",
       "Model:                            OLS   Adj. R-squared:                  0.831\n",
       "Method:                 Least Squares   F-statistic:                     3451.\n",
       "Date:                Fri, 16 Feb 2018   Prob (F-statistic):               0.00\n",
       "Time:                        20:15:31   Log-Likelihood:                -6231.2\n",
       "No. Observations:                1403   AIC:                         1.247e+04\n",
       "Df Residuals:                    1401   BIC:                         1.248e+04\n",
       "Df Model:                           2                                         \n",
       "Covariance Type:            nonrobust                                         \n",
       "==============================================================================\n",
       "                 coef    std err          t      P>|t|      [0.025      0.975]\n",
       "------------------------------------------------------------------------------\n",
       "abv            0.7925      0.015     52.399      0.000       0.763       0.822\n",
       "brewery_id    -0.0145      0.003     -4.214      0.000      -0.021      -0.008\n",
       "==============================================================================\n",
       "Omnibus:                       59.176   Durbin-Watson:                   1.896\n",
       "Prob(Omnibus):                  0.000   Jarque-Bera (JB):               65.668\n",
       "Skew:                           0.521   Prob(JB):                     5.50e-15\n",
       "Kurtosis:                       3.197   Cond. No.                         7.68\n",
       "==============================================================================\n",
       "\n",
       "Warnings:\n",
       "[1] Standard Errors assume that the covariance matrix of the errors is correctly specified.\n",
       "\"\"\""
      ]
     },
     "execution_count": 21,
     "metadata": {},
     "output_type": "execute_result"
    }
   ],
   "source": [
    "#there is little collinearity between the models.\n",
    "X = df[[\"abv\",\"brewery_id\"]]\n",
    "y = df[[\"ibu\"]]\n",
    "\n",
    "# Fit the linear model\n",
    "model = linear_model.LinearRegression()\n",
    "results = model.fit(X, y)\n",
    "\n",
    "# Print the coefficients\n",
    "print (results.intercept_, results.coef_)\n",
    "\n",
    "# import statsmodels.api as sm\n",
    "# Note the swap of X and y\n",
    "model = sm.OLS(y, X)\n",
    "results = model.fit()\n",
    "# Statsmodels gives R-like statistical output\n",
    "results.summary()"
   ]
  },
  {
   "cell_type": "code",
   "execution_count": 22,
   "metadata": {},
   "outputs": [
    {
     "data": {
      "text/plain": [
       "0.44990292228652795"
      ]
     },
     "execution_count": 22,
     "metadata": {},
     "output_type": "execute_result"
    }
   ],
   "source": [
    "from sklearn.linear_model import LinearRegression\n",
    "lm = LinearRegression()\n",
    "lm.fit(X, y)\n",
    "lm.score(X, y)"
   ]
  },
  {
   "cell_type": "code",
   "execution_count": 23,
   "metadata": {},
   "outputs": [
    {
     "data": {
      "text/plain": [
       "Text(0,0.5,'Predicted ibu')"
      ]
     },
     "execution_count": 23,
     "metadata": {},
     "output_type": "execute_result"
    },
    {
     "data": {
      "image/png": "[encoded data removed]",
      "text/plain": [
       "<matplotlib.figure.Figure at 0x2943fbb99b0>"
      ]
     },
     "metadata": {},
     "output_type": "display_data"
    }
   ],
   "source": [
    "import matplotlib.pyplot as plt\n",
    "lm.predict(X)[0:5]\n",
    "plt.scatter(df.ibu,lm.predict(X),color=[\"red\",\"blue\"])\n",
    "plt.xlabel(\"ibu\")\n",
    "plt.ylabel(\"Predicted ibu\")"
   ]
  },
  {
   "cell_type": "code",
   "execution_count": 28,
   "metadata": {},
   "outputs": [
    {
     "data": {
      "text/plain": [
       "ibu    42.739843\n",
       "dtype: float64"
      ]
     },
     "execution_count": 28,
     "metadata": {},
     "output_type": "execute_result"
    }
   ],
   "source": [
    "import numpy as py\n",
    "linreg = LinearRegression()\n",
    "linreg.fit(X,y)\n",
    "y_pred = linreg.predict(X)\n",
    "y_m=py.mean(y)\n",
    "y_m"
   ]
  },
  {
   "cell_type": "code",
   "execution_count": 29,
   "metadata": {},
   "outputs": [
    {
     "data": {
      "text/plain": [
       "19.249283113995311"
      ]
     },
     "execution_count": 29,
     "metadata": {},
     "output_type": "execute_result"
    }
   ],
   "source": [
    "from sklearn import metrics\n",
    "rmse = py.sqrt(metrics.mean_squared_error(y, y_pred))\n",
    "rmse"
   ]
  },
  {
   "cell_type": "code",
   "execution_count": 30,
   "metadata": {},
   "outputs": [
    {
     "data": {
      "text/plain": [
       "ibu    0.450383\n",
       "dtype: float64"
      ]
     },
     "execution_count": 30,
     "metadata": {},
     "output_type": "execute_result"
    }
   ],
   "source": [
    "rmse/y_m"
   ]
  },
  {
   "cell_type": "code",
   "execution_count": null,
   "metadata": {},
   "outputs": [],
   "source": [
    "#Logistic Regression"
   ]
  },
  {
   "cell_type": "code",
   "execution_count": 40,
   "metadata": {},
   "outputs": [
    {
     "name": "stdout",
     "output_type": "stream",
     "text": [
      "   Unnamed: 0_x    abv  ibu    id               name_x  \\\n",
      "0             0  0.050  NaN  1436             Pub Beer   \n",
      "1             1  0.066  NaN  2265          Devil's Cup   \n",
      "2             2  0.071  NaN  2264  Rise of the Phoenix   \n",
      "3             3  0.090  NaN  2263             Sinister   \n",
      "4             4  0.075  NaN  2262        Sex and Candy   \n",
      "\n",
      "                            style  brewery_id  ounces  Unnamed: 0_y  \\\n",
      "0             American Pale Lager         408    12.0           408   \n",
      "1         American Pale Ale (APA)         177    12.0           177   \n",
      "2                    American IPA         177    12.0           177   \n",
      "3  American Double / Imperial IPA         177    12.0           177   \n",
      "4                    American IPA         177    12.0           177   \n",
      "\n",
      "                      name_y  city state  \n",
      "0  10 Barrel Brewing Company  Bend    OR  \n",
      "1        18th Street Brewery  Gary    IN  \n",
      "2        18th Street Brewery  Gary    IN  \n",
      "3        18th Street Brewery  Gary    IN  \n",
      "4        18th Street Brewery  Gary    IN  \n",
      "    Unnamed: 0_x    abv   ibu    id                                name_x  \\\n",
      "14            14  0.061  60.0  1979                          Bitter Bitch   \n",
      "21            21  0.099  92.0  1036                         Lower De Boom   \n",
      "22            22  0.079  45.0  1024                         Fireside Chat   \n",
      "24            24  0.044  42.0   876                       Bitter American   \n",
      "25            25  0.049  17.0   802  Hell or High Watermelon Wheat (2009)   \n",
      "\n",
      "                      style  brewery_id  ounces  Unnamed: 0_y  \\\n",
      "14  American Pale Ale (APA)         177    12.0           177   \n",
      "21      American Barleywine         368     8.4           368   \n",
      "22            Winter Warmer         368    12.0           368   \n",
      "24  American Pale Ale (APA)         368    12.0           368   \n",
      "25   Fruit / Vegetable Beer         368    12.0           368   \n",
      "\n",
      "                    name_y           city state  \n",
      "14     18th Street Brewery           Gary    IN  \n",
      "21  21st Amendment Brewery  San Francisco    CA  \n",
      "22  21st Amendment Brewery  San Francisco    CA  \n",
      "24  21st Amendment Brewery  San Francisco    CA  \n",
      "25  21st Amendment Brewery  San Francisco    CA  \n",
      "    abv   ibu      id                             beer_name  style  \\\n",
      "14  6.1  60.0  1979.0                          Bitter Bitch    NaN   \n",
      "21  9.9  92.0  1036.0                         Lower De Boom    NaN   \n",
      "22  7.9  45.0  1024.0                         Fireside Chat    NaN   \n",
      "24  4.4  42.0   876.0                       Bitter American    NaN   \n",
      "25  4.9  17.0   802.0  Hell or High Watermelon Wheat (2009)    NaN   \n",
      "\n",
      "    brewery_id  ounces            brewery_name           city state  \\\n",
      "14         177    12.0     18th Street Brewery           Gary    IN   \n",
      "21         368     8.4  21st Amendment Brewery  San Francisco    CA   \n",
      "22         368    12.0  21st Amendment Brewery  San Francisco    CA   \n",
      "24         368    12.0  21st Amendment Brewery  San Francisco    CA   \n",
      "25         368    12.0  21st Amendment Brewery  San Francisco    CA   \n",
      "\n",
      "    brewery_id   \n",
      "14        177.0  \n",
      "21        368.0  \n",
      "22        368.0  \n",
      "24        368.0  \n",
      "25        368.0  \n"
     ]
    }
   ],
   "source": [
    "from sklearn.linear_model import LogisticRegression\n",
    "\n",
    "\n",
    "df_beer1 = pd.read_csv(r\"C:\\Users\\nupur\\Desktop\\input\\beers.csv\")\n",
    "df_brew1 = pd.read_csv(r\"C:\\Users\\nupur\\Desktop\\input\\breweries.csv\")\n",
    "\n",
    "df_brew1['brewery_id'] = df_brew1.index\n",
    "\n",
    "df1 = df_beer1.merge(df_brew1, on=\"brewery_id\")\n",
    "print(df1.head())\n",
    "df1=df1.dropna(how='any')\n",
    "print(df1.head())\n",
    "\n",
    "df1['id']=df1.id.astype(float)\n",
    "df1['brewery_id ']=df1.brewery_id.astype(float)\n",
    "df1['style'] = pd.to_numeric(df1['style'], errors='coerce')\n",
    "df1 = df1.rename(index=str, columns={\"name_x\":\"beer_name\", \"name_y\":\"brewery_name\"})\n",
    "\n",
    "## these 2 columns are just the index as well as the brewery ID repeated\n",
    "df1 = df1.drop(['Unnamed: 0_x', 'Unnamed: 0_y'], axis=1)\n",
    "## Make ABV a percentage for readability in the plots\n",
    "df1['abv'] = df1['abv']*100\n",
    "print(df1.head())\n",
    "\n",
    "\n",
    "\n"
   ]
  },
  {
   "cell_type": "code",
   "execution_count": 41,
   "metadata": {},
   "outputs": [
    {
     "data": {
      "text/html": [
       "<div>\n",
       "<style>\n",
       "    .dataframe thead tr:only-child th {\n",
       "        text-align: right;\n",
       "    }\n",
       "\n",
       "    .dataframe thead th {\n",
       "        text-align: left;\n",
       "    }\n",
       "\n",
       "    .dataframe tbody tr th {\n",
       "        vertical-align: top;\n",
       "    }\n",
       "</style>\n",
       "<table border=\"1\" class=\"dataframe\">\n",
       "  <thead>\n",
       "    <tr style=\"text-align: right;\">\n",
       "      <th></th>\n",
       "      <th>VIF Factor</th>\n",
       "      <th>features</th>\n",
       "    </tr>\n",
       "  </thead>\n",
       "  <tbody>\n",
       "    <tr>\n",
       "      <th>0</th>\n",
       "      <td>4.5</td>\n",
       "      <td>Intercept</td>\n",
       "    </tr>\n",
       "    <tr>\n",
       "      <th>1</th>\n",
       "      <td>1.0</td>\n",
       "      <td>id</td>\n",
       "    </tr>\n",
       "  </tbody>\n",
       "</table>\n",
       "</div>"
      ],
      "text/plain": [
       "   VIF Factor   features\n",
       "0         4.5  Intercept\n",
       "1         1.0         id"
      ]
     },
     "execution_count": 41,
     "metadata": {},
     "output_type": "execute_result"
    }
   ],
   "source": [
    "from patsy import dmatrices\n",
    "\n",
    "\n",
    "\n",
    "y, X = dmatrices('ibu ~ id', df1, return_type='dataframe')\n",
    "vif = pd.DataFrame()\n",
    "vif[\"VIF Factor\"] = [variance_inflation_factor(X.values, i) for i in range(X.shape[1])]\n",
    "vif[\"features\"] = X.columns\n",
    "\n",
    "vif.round(1)"
   ]
  },
  {
   "cell_type": "code",
   "execution_count": 42,
   "metadata": {},
   "outputs": [
    {
     "data": {
      "text/html": [
       "<div>\n",
       "<style>\n",
       "    .dataframe thead tr:only-child th {\n",
       "        text-align: right;\n",
       "    }\n",
       "\n",
       "    .dataframe thead th {\n",
       "        text-align: left;\n",
       "    }\n",
       "\n",
       "    .dataframe tbody tr th {\n",
       "        vertical-align: top;\n",
       "    }\n",
       "</style>\n",
       "<table border=\"1\" class=\"dataframe\">\n",
       "  <thead>\n",
       "    <tr style=\"text-align: right;\">\n",
       "      <th></th>\n",
       "      <th>VIF Factor</th>\n",
       "      <th>features</th>\n",
       "    </tr>\n",
       "  </thead>\n",
       "  <tbody>\n",
       "    <tr>\n",
       "      <th>0</th>\n",
       "      <td>20.5</td>\n",
       "      <td>Intercept</td>\n",
       "    </tr>\n",
       "    <tr>\n",
       "      <th>1</th>\n",
       "      <td>1.0</td>\n",
       "      <td>abv</td>\n",
       "    </tr>\n",
       "  </tbody>\n",
       "</table>\n",
       "</div>"
      ],
      "text/plain": [
       "   VIF Factor   features\n",
       "0        20.5  Intercept\n",
       "1         1.0        abv"
      ]
     },
     "execution_count": 42,
     "metadata": {},
     "output_type": "execute_result"
    }
   ],
   "source": [
    "from patsy import dmatrices\n",
    "\n",
    "\n",
    "\n",
    "y, X = dmatrices('ibu ~ abv', df1, return_type='dataframe')\n",
    "vif = pd.DataFrame()\n",
    "vif[\"VIF Factor\"] = [variance_inflation_factor(X.values, i) for i in range(X.shape[1])]\n",
    "vif[\"features\"] = X.columns\n",
    "\n",
    "vif.round(1)"
   ]
  },
  {
   "cell_type": "code",
   "execution_count": 43,
   "metadata": {
    "collapsed": true
   },
   "outputs": [],
   "source": [
    "lm = smf.ols(formula='abv ~ ibu ', data=df1).fit()\n"
   ]
  },
  {
   "cell_type": "code",
   "execution_count": 44,
   "metadata": {},
   "outputs": [
    {
     "data": {
      "text/plain": [
       "Intercept    4.491921\n",
       "ibu          0.035095\n",
       "dtype: float64"
      ]
     },
     "execution_count": 44,
     "metadata": {},
     "output_type": "execute_result"
    }
   ],
   "source": [
    "# print the coefficients\n",
    "lm.params"
   ]
  },
  {
   "cell_type": "code",
   "execution_count": 45,
   "metadata": {},
   "outputs": [
    {
     "data": {
      "text/html": [
       "<table class=\"simpletable\">\n",
       "<caption>OLS Regression Results</caption>\n",
       "<tr>\n",
       "  <th>Dep. Variable:</th>           <td>abv</td>       <th>  R-squared:         </th> <td>   0.450</td> \n",
       "</tr>\n",
       "<tr>\n",
       "  <th>Model:</th>                   <td>OLS</td>       <th>  Adj. R-squared:    </th> <td>   0.449</td> \n",
       "</tr>\n",
       "<tr>\n",
       "  <th>Method:</th>             <td>Least Squares</td>  <th>  F-statistic:       </th> <td>   1146.</td> \n",
       "</tr>\n",
       "<tr>\n",
       "  <th>Date:</th>             <td>Fri, 16 Feb 2018</td> <th>  Prob (F-statistic):</th> <td>4.99e-184</td>\n",
       "</tr>\n",
       "<tr>\n",
       "  <th>Time:</th>                 <td>21:31:29</td>     <th>  Log-Likelihood:    </th> <td> -2000.9</td> \n",
       "</tr>\n",
       "<tr>\n",
       "  <th>No. Observations:</th>      <td>  1403</td>      <th>  AIC:               </th> <td>   4006.</td> \n",
       "</tr>\n",
       "<tr>\n",
       "  <th>Df Residuals:</th>          <td>  1401</td>      <th>  BIC:               </th> <td>   4016.</td> \n",
       "</tr>\n",
       "<tr>\n",
       "  <th>Df Model:</th>              <td>     1</td>      <th>                     </th>     <td> </td>    \n",
       "</tr>\n",
       "<tr>\n",
       "  <th>Covariance Type:</th>      <td>nonrobust</td>    <th>                     </th>     <td> </td>    \n",
       "</tr>\n",
       "</table>\n",
       "<table class=\"simpletable\">\n",
       "<tr>\n",
       "      <td></td>         <th>coef</th>     <th>std err</th>      <th>t</th>      <th>P>|t|</th>  <th>[0.025</th>    <th>0.975]</th>  \n",
       "</tr>\n",
       "<tr>\n",
       "  <th>Intercept</th> <td>    4.4919</td> <td>    0.052</td> <td>   86.641</td> <td> 0.000</td> <td>    4.390</td> <td>    4.594</td>\n",
       "</tr>\n",
       "<tr>\n",
       "  <th>ibu</th>       <td>    0.0351</td> <td>    0.001</td> <td>   33.848</td> <td> 0.000</td> <td>    0.033</td> <td>    0.037</td>\n",
       "</tr>\n",
       "</table>\n",
       "<table class=\"simpletable\">\n",
       "<tr>\n",
       "  <th>Omnibus:</th>       <td>309.094</td> <th>  Durbin-Watson:     </th> <td>   1.597</td> \n",
       "</tr>\n",
       "<tr>\n",
       "  <th>Prob(Omnibus):</th> <td> 0.000</td>  <th>  Jarque-Bera (JB):  </th> <td> 777.732</td> \n",
       "</tr>\n",
       "<tr>\n",
       "  <th>Skew:</th>          <td> 1.170</td>  <th>  Prob(JB):          </th> <td>1.31e-169</td>\n",
       "</tr>\n",
       "<tr>\n",
       "  <th>Kurtosis:</th>      <td> 5.797</td>  <th>  Cond. No.          </th> <td>    96.4</td> \n",
       "</tr>\n",
       "</table>"
      ],
      "text/plain": [
       "<class 'statsmodels.iolib.summary.Summary'>\n",
       "\"\"\"\n",
       "                            OLS Regression Results                            \n",
       "==============================================================================\n",
       "Dep. Variable:                    abv   R-squared:                       0.450\n",
       "Model:                            OLS   Adj. R-squared:                  0.449\n",
       "Method:                 Least Squares   F-statistic:                     1146.\n",
       "Date:                Fri, 16 Feb 2018   Prob (F-statistic):          4.99e-184\n",
       "Time:                        21:31:29   Log-Likelihood:                -2000.9\n",
       "No. Observations:                1403   AIC:                             4006.\n",
       "Df Residuals:                    1401   BIC:                             4016.\n",
       "Df Model:                           1                                         \n",
       "Covariance Type:            nonrobust                                         \n",
       "==============================================================================\n",
       "                 coef    std err          t      P>|t|      [0.025      0.975]\n",
       "------------------------------------------------------------------------------\n",
       "Intercept      4.4919      0.052     86.641      0.000       4.390       4.594\n",
       "ibu            0.0351      0.001     33.848      0.000       0.033       0.037\n",
       "==============================================================================\n",
       "Omnibus:                      309.094   Durbin-Watson:                   1.597\n",
       "Prob(Omnibus):                  0.000   Jarque-Bera (JB):              777.732\n",
       "Skew:                           1.170   Prob(JB):                    1.31e-169\n",
       "Kurtosis:                       5.797   Cond. No.                         96.4\n",
       "==============================================================================\n",
       "\n",
       "Warnings:\n",
       "[1] Standard Errors assume that the covariance matrix of the errors is correctly specified.\n",
       "\"\"\""
      ]
     },
     "execution_count": 45,
     "metadata": {},
     "output_type": "execute_result"
    }
   ],
   "source": [
    "\n",
    "lm.summary()"
   ]
  },
  {
   "cell_type": "code",
   "execution_count": 48,
   "metadata": {},
   "outputs": [
    {
     "name": "stderr",
     "output_type": "stream",
     "text": [
      "C:\\Users\\nupur\\Anaconda3\\lib\\site-packages\\sklearn\\utils\\validation.py:578: DataConversionWarning: A column-vector y was passed when a 1d array was expected. Please change the shape of y to (n_samples, ), for example using ravel().\n",
      "  y = column_or_1d(y, warn=True)\n"
     ]
    },
    {
     "name": "stdout",
     "output_type": "stream",
     "text": [
      "[ 0.34027601 -0.03060839 -0.12157362 ..., -3.87118073 -3.87148274\n",
      " -3.87178469] [[-0.62435026]\n",
      " [-0.37224176]\n",
      " [-0.33154077]\n",
      " ..., \n",
      " [-0.00192667]\n",
      " [-0.00192601]\n",
      " [-0.00192535]]\n"
     ]
    },
    {
     "data": {
      "text/html": [
       "<table class=\"simpletable\">\n",
       "<caption>OLS Regression Results</caption>\n",
       "<tr>\n",
       "  <th>Dep. Variable:</th>           <td>abv</td>       <th>  R-squared:         </th>  <td>   1.000</td> \n",
       "</tr>\n",
       "<tr>\n",
       "  <th>Model:</th>                   <td>OLS</td>       <th>  Adj. R-squared:    </th>  <td>   1.000</td> \n",
       "</tr>\n",
       "<tr>\n",
       "  <th>Method:</th>             <td>Least Squares</td>  <th>  F-statistic:       </th> <td>-6.073e+33</td>\n",
       "</tr>\n",
       "<tr>\n",
       "  <th>Date:</th>             <td>Fri, 16 Feb 2018</td> <th>  Prob (F-statistic):</th>   <td>  1.00</td>  \n",
       "</tr>\n",
       "<tr>\n",
       "  <th>Time:</th>                 <td>21:42:34</td>     <th>  Log-Likelihood:    </th>  <td>  38306.</td> \n",
       "</tr>\n",
       "<tr>\n",
       "  <th>No. Observations:</th>      <td>  1403</td>      <th>  AIC:               </th> <td>-7.661e+04</td>\n",
       "</tr>\n",
       "<tr>\n",
       "  <th>Df Residuals:</th>          <td>  1402</td>      <th>  BIC:               </th> <td>-7.661e+04</td>\n",
       "</tr>\n",
       "<tr>\n",
       "  <th>Df Model:</th>              <td>     1</td>      <th>                     </th>      <td> </td>    \n",
       "</tr>\n",
       "<tr>\n",
       "  <th>Covariance Type:</th>      <td>nonrobust</td>    <th>                     </th>      <td> </td>    \n",
       "</tr>\n",
       "</table>\n",
       "<table class=\"simpletable\">\n",
       "<tr>\n",
       "   <td></td>      <th>coef</th>     <th>std err</th>      <th>t</th>      <th>P>|t|</th>  <th>[0.025</th>    <th>0.975]</th>  \n",
       "</tr>\n",
       "<tr>\n",
       "  <th>ibu</th> <td>    1.0000</td> <td> 5.59e-18</td> <td> 1.79e+17</td> <td> 0.000</td> <td>    1.000</td> <td>    1.000</td>\n",
       "</tr>\n",
       "</table>\n",
       "<table class=\"simpletable\">\n",
       "<tr>\n",
       "  <th>Omnibus:</th>       <td>16.123</td> <th>  Durbin-Watson:     </th> <td>   0.171</td>\n",
       "</tr>\n",
       "<tr>\n",
       "  <th>Prob(Omnibus):</th> <td> 0.000</td> <th>  Jarque-Bera (JB):  </th> <td> 136.771</td>\n",
       "</tr>\n",
       "<tr>\n",
       "  <th>Skew:</th>          <td> 0.266</td> <th>  Prob(JB):          </th> <td>2.00e-30</td>\n",
       "</tr>\n",
       "<tr>\n",
       "  <th>Kurtosis:</th>      <td> 1.566</td> <th>  Cond. No.          </th> <td>    1.00</td>\n",
       "</tr>\n",
       "</table>"
      ],
      "text/plain": [
       "<class 'statsmodels.iolib.summary.Summary'>\n",
       "\"\"\"\n",
       "                            OLS Regression Results                            \n",
       "==============================================================================\n",
       "Dep. Variable:                    abv   R-squared:                       1.000\n",
       "Model:                            OLS   Adj. R-squared:                  1.000\n",
       "Method:                 Least Squares   F-statistic:                -6.073e+33\n",
       "Date:                Fri, 16 Feb 2018   Prob (F-statistic):               1.00\n",
       "Time:                        21:42:34   Log-Likelihood:                 38306.\n",
       "No. Observations:                1403   AIC:                        -7.661e+04\n",
       "Df Residuals:                    1402   BIC:                        -7.661e+04\n",
       "Df Model:                           1                                         \n",
       "Covariance Type:            nonrobust                                         \n",
       "==============================================================================\n",
       "                 coef    std err          t      P>|t|      [0.025      0.975]\n",
       "------------------------------------------------------------------------------\n",
       "ibu            1.0000   5.59e-18   1.79e+17      0.000       1.000       1.000\n",
       "==============================================================================\n",
       "Omnibus:                       16.123   Durbin-Watson:                   0.171\n",
       "Prob(Omnibus):                  0.000   Jarque-Bera (JB):              136.771\n",
       "Skew:                           0.266   Prob(JB):                     2.00e-30\n",
       "Kurtosis:                       1.566   Cond. No.                         1.00\n",
       "==============================================================================\n",
       "\n",
       "Warnings:\n",
       "[1] Standard Errors assume that the covariance matrix of the errors is correctly specified.\n",
       "\"\"\""
      ]
     },
     "execution_count": 48,
     "metadata": {},
     "output_type": "execute_result"
    }
   ],
   "source": [
    "X = df1[[\"ibu\"]]\n",
    "y = df1[[\"abv\"]]\n",
    "\n",
    "\n",
    "model = LogisticRegression(random_state=0)\n",
    "results = model.fit(X, y)\n",
    "\n",
    "# Print the coefficients\n",
    "print (results.intercept_, results.coef_)\n",
    "\n",
    "# import statsmodels.api as sm\n",
    "# Note the swap of X and y\n",
    "model = sm.OLS(y, X)\n",
    "results = model.fit()\n",
    "# Statsmodels gives R-like statistical output\n",
    "results.summary()"
   ]
  },
  {
   "cell_type": "code",
   "execution_count": 49,
   "metadata": {},
   "outputs": [
    {
     "name": "stderr",
     "output_type": "stream",
     "text": [
      "C:\\Users\\nupur\\Anaconda3\\lib\\site-packages\\sklearn\\utils\\validation.py:578: DataConversionWarning: A column-vector y was passed when a 1d array was expected. Please change the shape of y to (n_samples, ), for example using ravel().\n",
      "  y = column_or_1d(y, warn=True)\n"
     ]
    },
    {
     "data": {
      "text/plain": [
       "0.0014255167498218105"
      ]
     },
     "execution_count": 49,
     "metadata": {},
     "output_type": "execute_result"
    }
   ],
   "source": [
    "lm = LogisticRegression()\n",
    "lm.fit(X, y)\n",
    "lm.score(X, y)\n"
   ]
  },
  {
   "cell_type": "code",
   "execution_count": 50,
   "metadata": {},
   "outputs": [
    {
     "data": {
      "text/plain": [
       "Text(0,0.5,'abv')"
      ]
     },
     "execution_count": 50,
     "metadata": {},
     "output_type": "execute_result"
    },
    {
     "data": {
      "image/png": "[encoded data removed]",
      "text/plain": [
       "<matplotlib.figure.Figure at 0x29440c9dc18>"
      ]
     },
     "metadata": {},
     "output_type": "display_data"
    }
   ],
   "source": [
    "import matplotlib.pyplot as plt\n",
    "lm.predict(X)[0:5]\n",
    "plt.scatter(df1.ibu,lm.predict(X),color=[\"red\",\"blue\"])\n",
    "plt.xlabel(\"ibu\")\n",
    "plt.ylabel(\"abv\")"
   ]
  },
  {
   "cell_type": "code",
   "execution_count": 51,
   "metadata": {},
   "outputs": [
    {
     "name": "stderr",
     "output_type": "stream",
     "text": [
      "C:\\Users\\nupur\\Anaconda3\\lib\\site-packages\\sklearn\\utils\\validation.py:578: DataConversionWarning: A column-vector y was passed when a 1d array was expected. Please change the shape of y to (n_samples, ), for example using ravel().\n",
      "  y = column_or_1d(y, warn=True)\n"
     ]
    },
    {
     "name": "stdout",
     "output_type": "stream",
     "text": [
      "[ 0.34027601 -0.03060839 -0.12157362 ..., -3.87118073 -3.87148274\n",
      " -3.87178469] [[-0.62435026]\n",
      " [-0.37224176]\n",
      " [-0.33154077]\n",
      " ..., \n",
      " [-0.00192667]\n",
      " [-0.00192601]\n",
      " [-0.00192535]]\n"
     ]
    },
    {
     "data": {
      "text/html": [
       "<table class=\"simpletable\">\n",
       "<caption>OLS Regression Results</caption>\n",
       "<tr>\n",
       "  <th>Dep. Variable:</th>           <td>abv</td>       <th>  R-squared:         </th>  <td>   1.000</td> \n",
       "</tr>\n",
       "<tr>\n",
       "  <th>Model:</th>                   <td>OLS</td>       <th>  Adj. R-squared:    </th>  <td>   1.000</td> \n",
       "</tr>\n",
       "<tr>\n",
       "  <th>Method:</th>             <td>Least Squares</td>  <th>  F-statistic:       </th> <td>-6.073e+33</td>\n",
       "</tr>\n",
       "<tr>\n",
       "  <th>Date:</th>             <td>Fri, 16 Feb 2018</td> <th>  Prob (F-statistic):</th>   <td>  1.00</td>  \n",
       "</tr>\n",
       "<tr>\n",
       "  <th>Time:</th>                 <td>21:47:24</td>     <th>  Log-Likelihood:    </th>  <td>  38306.</td> \n",
       "</tr>\n",
       "<tr>\n",
       "  <th>No. Observations:</th>      <td>  1403</td>      <th>  AIC:               </th> <td>-7.661e+04</td>\n",
       "</tr>\n",
       "<tr>\n",
       "  <th>Df Residuals:</th>          <td>  1402</td>      <th>  BIC:               </th> <td>-7.661e+04</td>\n",
       "</tr>\n",
       "<tr>\n",
       "  <th>Df Model:</th>              <td>     1</td>      <th>                     </th>      <td> </td>    \n",
       "</tr>\n",
       "<tr>\n",
       "  <th>Covariance Type:</th>      <td>nonrobust</td>    <th>                     </th>      <td> </td>    \n",
       "</tr>\n",
       "</table>\n",
       "<table class=\"simpletable\">\n",
       "<tr>\n",
       "   <td></td>      <th>coef</th>     <th>std err</th>      <th>t</th>      <th>P>|t|</th>  <th>[0.025</th>    <th>0.975]</th>  \n",
       "</tr>\n",
       "<tr>\n",
       "  <th>ibu</th> <td>    1.0000</td> <td> 5.59e-18</td> <td> 1.79e+17</td> <td> 0.000</td> <td>    1.000</td> <td>    1.000</td>\n",
       "</tr>\n",
       "</table>\n",
       "<table class=\"simpletable\">\n",
       "<tr>\n",
       "  <th>Omnibus:</th>       <td>16.123</td> <th>  Durbin-Watson:     </th> <td>   0.171</td>\n",
       "</tr>\n",
       "<tr>\n",
       "  <th>Prob(Omnibus):</th> <td> 0.000</td> <th>  Jarque-Bera (JB):  </th> <td> 136.771</td>\n",
       "</tr>\n",
       "<tr>\n",
       "  <th>Skew:</th>          <td> 0.266</td> <th>  Prob(JB):          </th> <td>2.00e-30</td>\n",
       "</tr>\n",
       "<tr>\n",
       "  <th>Kurtosis:</th>      <td> 1.566</td> <th>  Cond. No.          </th> <td>    1.00</td>\n",
       "</tr>\n",
       "</table>"
      ],
      "text/plain": [
       "<class 'statsmodels.iolib.summary.Summary'>\n",
       "\"\"\"\n",
       "                            OLS Regression Results                            \n",
       "==============================================================================\n",
       "Dep. Variable:                    abv   R-squared:                       1.000\n",
       "Model:                            OLS   Adj. R-squared:                  1.000\n",
       "Method:                 Least Squares   F-statistic:                -6.073e+33\n",
       "Date:                Fri, 16 Feb 2018   Prob (F-statistic):               1.00\n",
       "Time:                        21:47:24   Log-Likelihood:                 38306.\n",
       "No. Observations:                1403   AIC:                        -7.661e+04\n",
       "Df Residuals:                    1402   BIC:                        -7.661e+04\n",
       "Df Model:                           1                                         \n",
       "Covariance Type:            nonrobust                                         \n",
       "==============================================================================\n",
       "                 coef    std err          t      P>|t|      [0.025      0.975]\n",
       "------------------------------------------------------------------------------\n",
       "ibu            1.0000   5.59e-18   1.79e+17      0.000       1.000       1.000\n",
       "==============================================================================\n",
       "Omnibus:                       16.123   Durbin-Watson:                   0.171\n",
       "Prob(Omnibus):                  0.000   Jarque-Bera (JB):              136.771\n",
       "Skew:                           0.266   Prob(JB):                     2.00e-30\n",
       "Kurtosis:                       1.566   Cond. No.                         1.00\n",
       "==============================================================================\n",
       "\n",
       "Warnings:\n",
       "[1] Standard Errors assume that the covariance matrix of the errors is correctly specified.\n",
       "\"\"\""
      ]
     },
     "execution_count": 51,
     "metadata": {},
     "output_type": "execute_result"
    }
   ],
   "source": [
    "X = df1[[\"ibu\"]]\n",
    "y = df1[[\"abv\"]]\n",
    "\n",
    "model = LogisticRegression()\n",
    "results = model.fit(X, y)\n",
    "\n",
    "# Print the coefficients\n",
    "print (results.intercept_, results.coef_)\n",
    "\n",
    "# import statsmodels.api as sm\n",
    "# Note the swap of X and y\n",
    "model = sm.OLS(y, X)\n",
    "results = model.fit()\n",
    "# Statsmodels gives R-like statistical output\n",
    "results.summary()"
   ]
  },
  {
   "cell_type": "code",
   "execution_count": 52,
   "metadata": {},
   "outputs": [
    {
     "name": "stderr",
     "output_type": "stream",
     "text": [
      "C:\\Users\\nupur\\Anaconda3\\lib\\site-packages\\sklearn\\utils\\validation.py:578: DataConversionWarning: A column-vector y was passed when a 1d array was expected. Please change the shape of y to (n_samples, ), for example using ravel().\n",
      "  y = column_or_1d(y, warn=True)\n"
     ]
    },
    {
     "data": {
      "text/plain": [
       "0.0014255167498218105"
      ]
     },
     "execution_count": 52,
     "metadata": {},
     "output_type": "execute_result"
    }
   ],
   "source": [
    "#from sklearn.linear_model import LinearRegression\n",
    "lm = LogisticRegression()\n",
    "lm.fit(X, y)\n",
    "lm.score(X, y)"
   ]
  },
  {
   "cell_type": "code",
   "execution_count": 56,
   "metadata": {},
   "outputs": [
    {
     "data": {
      "text/plain": [
       "Text(0,0.5,'Predicted ibu')"
      ]
     },
     "execution_count": 56,
     "metadata": {},
     "output_type": "execute_result"
    },
    {
     "data": {
      "image/png": "[encoded data removed]",
      "text/plain": [
       "<matplotlib.figure.Figure at 0x29440cbc668>"
      ]
     },
     "metadata": {},
     "output_type": "display_data"
    }
   ],
   "source": [
    "import matplotlib.pyplot as plt\n",
    "lm.predict(X)[0:5]\n",
    "plt.scatter(df1.abv,lm.predict(X),color=[\"red\",\"blue\"])\n",
    "plt.xlabel(\"abv\")\n",
    "plt.ylabel(\"Predicted ibu\")"
   ]
  },
  {
   "cell_type": "code",
   "execution_count": 57,
   "metadata": {},
   "outputs": [
    {
     "name": "stderr",
     "output_type": "stream",
     "text": [
      "C:\\Users\\nupur\\Anaconda3\\lib\\site-packages\\sklearn\\utils\\validation.py:578: DataConversionWarning: A column-vector y was passed when a 1d array was expected. Please change the shape of y to (n_samples, ), for example using ravel().\n",
      "  y = column_or_1d(y, warn=True)\n"
     ]
    },
    {
     "data": {
      "text/plain": [
       "2504.9166072701355"
      ]
     },
     "execution_count": 57,
     "metadata": {},
     "output_type": "execute_result"
    }
   ],
   "source": [
    "linreg = LogisticRegression()\n",
    "linreg.fit(X,y)\n",
    "y_pred = linreg.predict(X)\n",
    "y_m=py.mean(y_pred)\n",
    "y_m"
   ]
  },
  {
   "cell_type": "code",
   "execution_count": 58,
   "metadata": {},
   "outputs": [
    {
     "data": {
      "text/plain": [
       "1276.3127799204112"
      ]
     },
     "execution_count": 58,
     "metadata": {},
     "output_type": "execute_result"
    }
   ],
   "source": [
    "from sklearn import metrics\n",
    "rmse = py.sqrt(metrics.mean_squared_error(y, y_pred))\n",
    "rmse\n"
   ]
  },
  {
   "cell_type": "code",
   "execution_count": 59,
   "metadata": {},
   "outputs": [
    {
     "data": {
      "text/plain": [
       "0.50952306205169051"
      ]
     },
     "execution_count": 59,
     "metadata": {},
     "output_type": "execute_result"
    }
   ],
   "source": [
    "rmse / y_m"
   ]
  },
  {
   "cell_type": "code",
   "execution_count": 61,
   "metadata": {},
   "outputs": [],
   "source": [
    "\n",
    "#Regularization"
   ]
  },
  {
   "cell_type": "code",
   "execution_count": 64,
   "metadata": {},
   "outputs": [
    {
     "name": "stderr",
     "output_type": "stream",
     "text": [
      "C:\\Users\\nupur\\Anaconda3\\lib\\site-packages\\sklearn\\utils\\validation.py:578: DataConversionWarning: A column-vector y was passed when a 1d array was expected. Please change the shape of y to (n_samples, ), for example using ravel().\n",
      "  y = column_or_1d(y, warn=True)\n"
     ]
    },
    {
     "data": {
      "text/plain": [
       "Text(0.5,1,'abv vs Predicted ibu: $Y_i$ vs $\\\\hat{y}_i$')"
      ]
     },
     "execution_count": 64,
     "metadata": {},
     "output_type": "execute_result"
    },
    {
     "data": {
      "image/png": "[encoded data removed]",
      "text/plain": [
       "<matplotlib.figure.Figure at 0x29440e14668>"
      ]
     },
     "metadata": {},
     "output_type": "display_data"
    }
   ],
   "source": [
    "X_train, X_test, y_train, y_test = train_test_split(X, y, test_size= .3, random_state=0)\n",
    "\n",
    "ridge = Ridge(fit_intercept=True, alpha=0.5)\n",
    "ridge.fit(X_train,y_train)\n",
    "\n",
    "linreg = LogisticRegression()\n",
    "linreg.fit(X_train, y_train)\n",
    "\n",
    "y_pred = linreg.predict(X_test)\n",
    "\n",
    "plt.scatter(y_test, y_pred,color=[\"Green\",\"blue\"])\n",
    "plt.xlabel(\"abv: $Y_i$\")\n",
    "plt.ylabel(\"Predicted ibu: $\\hat{y}_i$\")\n",
    "plt.title(\"abv vs Predicted ibu: $Y_i$ vs $\\hat{y}_i$\")\n"
   ]
  },
  {
   "cell_type": "code",
   "execution_count": 65,
   "metadata": {},
   "outputs": [
    {
     "name": "stdout",
     "output_type": "stream",
     "text": [
      "[[0 0 1 ..., 0 0 0]\n",
      " [0 0 0 ..., 0 0 0]\n",
      " [0 0 0 ..., 0 0 0]\n",
      " ..., \n",
      " [0 0 0 ..., 0 0 1]\n",
      " [0 0 0 ..., 0 0 1]\n",
      " [0 0 0 ..., 0 0 0]]\n",
      "1.0\n"
     ]
    }
   ],
   "source": [
    "#Goodness of fit\n",
    "\n",
    "from sklearn.metrics import confusion_matrix\n",
    "confusion = confusion_matrix(y_test,y_pred)\n",
    "print (confusion)\n",
    "print (linreg.score(y_test,y_pred))"
   ]
  },
  {
   "cell_type": "code",
   "execution_count": 66,
   "metadata": {},
   "outputs": [
    {
     "name": "stdout",
     "output_type": "stream",
     "text": [
      "             precision    recall  f1-score   support\n",
      "\n",
      "          4       0.00      0.00      0.00         1\n",
      "          6       0.00      0.00      0.00         1\n",
      "          9       0.00      0.00      0.00         0\n",
      "         11       0.00      0.00      0.00         1\n",
      "         13       0.00      0.00      0.00         1\n",
      "         15       0.00      0.00      0.00         0\n",
      "         16       0.00      0.00      0.00         1\n",
      "         31       0.00      0.00      0.00         1\n",
      "         35       0.00      0.00      0.00         1\n",
      "         36       0.00      0.00      0.00         0\n",
      "         42       0.00      0.00      0.00         1\n",
      "         46       0.00      0.00      0.00         1\n",
      "         48       0.00      0.00      0.00         1\n",
      "         53       0.00      0.00      0.00         0\n",
      "         78       0.00      0.00      0.00         1\n",
      "         83       0.00      0.00      0.00         1\n",
      "        105       0.00      0.00      0.00         1\n",
      "        119       0.00      0.00      0.00         1\n",
      "        124       0.00      0.00      0.00         0\n",
      "        145       0.00      0.00      0.00         1\n",
      "        159       0.00      0.00      0.00         0\n",
      "        169       0.00      0.00      0.00         1\n",
      "        170       0.00      0.00      0.00         1\n",
      "        171       0.00      0.00      0.00         1\n",
      "        173       0.00      0.00      0.00         1\n",
      "        186       0.00      0.00      0.00         1\n",
      "        188       0.00      0.00      0.00         1\n",
      "        192       0.00      0.00      0.00         1\n",
      "        195       0.00      0.00      0.00         0\n",
      "        213       0.00      0.00      0.00         1\n",
      "        308       0.00      0.00      0.00         1\n",
      "        318       0.00      0.00      0.00         1\n",
      "        358       0.00      0.00      0.00         1\n",
      "        360       0.00      0.00      0.00         1\n",
      "        368       0.00      0.00      0.00         1\n",
      "        371       0.00      0.00      0.00         1\n",
      "        381       0.00      0.00      0.00         1\n",
      "        382       0.00      0.00      0.00         1\n",
      "        389       0.00      0.00      0.00         0\n",
      "        399       0.00      0.00      0.00         1\n",
      "        403       0.00      0.00      0.00         1\n",
      "        407       0.00      0.00      0.00         1\n",
      "        415       0.00      0.00      0.00         1\n",
      "        433       0.00      0.00      0.00         1\n",
      "        434       0.00      0.00      0.00         1\n",
      "        441       0.00      0.00      0.00         0\n",
      "        445       0.00      0.00      0.00         1\n",
      "        455       0.00      0.00      0.00         1\n",
      "        463       0.00      0.00      0.00         1\n",
      "        468       0.00      0.00      0.00         1\n",
      "        469       0.00      0.00      0.00         1\n",
      "        478       0.00      0.00      0.00         1\n",
      "        482       0.00      0.00      0.00         1\n",
      "        495       0.00      0.00      0.00         1\n",
      "        497       0.00      0.00      0.00         1\n",
      "        505       0.00      0.00      0.00         1\n",
      "        513       0.00      0.00      0.00         1\n",
      "        515       0.00      0.00      0.00         1\n",
      "        517       0.00      0.00      0.00         1\n",
      "        531       0.00      0.00      0.00         1\n",
      "        540       0.00      0.00      0.00         1\n",
      "        546       0.00      0.00      0.00         1\n",
      "        549       0.00      0.00      0.00         1\n",
      "        550       0.00      0.00      0.00         1\n",
      "        558       0.00      0.00      0.00         1\n",
      "        560       0.00      0.00      0.00         0\n",
      "        576       0.00      0.00      0.00         1\n",
      "        583       0.00      0.00      0.00         1\n",
      "        584       0.00      0.00      0.00         1\n",
      "        586       0.00      0.00      0.00         1\n",
      "        597       0.00      0.00      0.00         1\n",
      "        600       0.00      0.00      0.00         1\n",
      "        607       0.00      0.00      0.00         1\n",
      "        611       0.00      0.00      0.00         1\n",
      "        628       0.00      0.00      0.00         1\n",
      "        631       0.00      0.00      0.00         1\n",
      "        636       0.00      0.00      0.00         1\n",
      "        641       0.00      0.00      0.00         1\n",
      "        643       0.00      0.00      0.00         1\n",
      "        648       0.00      0.00      0.00         1\n",
      "        649       0.00      0.00      0.00         1\n",
      "        662       0.00      0.00      0.00         1\n",
      "        665       0.00      0.00      0.00         1\n",
      "        666       0.00      0.00      0.00         1\n",
      "        667       0.00      0.00      0.00         1\n",
      "        676       0.00      0.00      0.00         1\n",
      "        693       0.00      0.00      0.00         1\n",
      "        694       0.00      0.00      0.00         0\n",
      "        695       0.00      0.00      0.00         1\n",
      "        696       0.00      0.00      0.00         1\n",
      "        698       0.00      0.00      0.00         1\n",
      "        704       0.00      0.00      0.00         1\n",
      "        724       0.00      0.00      0.00         1\n",
      "        730       0.00      0.00      0.00         1\n",
      "        733       0.00      0.00      0.00         1\n",
      "        740       0.00      0.00      0.00         1\n",
      "        745       0.00      0.00      0.00         1\n",
      "        748       0.00      0.00      0.00         1\n",
      "        749       0.00      0.00      0.00         1\n",
      "        755       0.00      0.00      0.00         1\n",
      "        758       0.00      0.00      0.00         1\n",
      "        766       0.00      0.00      0.00         1\n",
      "        769       0.00      0.00      0.00         1\n",
      "        778       0.00      0.00      0.00         1\n",
      "        787       0.00      0.00      0.00         1\n",
      "        792       0.00      0.00      0.00         1\n",
      "        796       0.00      0.00      0.00         1\n",
      "        797       0.00      0.00      0.00         1\n",
      "        801       0.00      0.00      0.00         1\n",
      "        802       0.00      0.00      0.00         1\n",
      "        803       0.00      0.00      0.00         1\n",
      "        816       0.00      0.00      0.00         1\n",
      "        837       0.00      0.00      0.00         1\n",
      "        850       0.00      0.00      0.00         1\n",
      "        852       0.00      0.00      0.00         1\n",
      "        853       0.00      0.00      0.00         1\n",
      "        855       0.00      0.00      0.00         1\n",
      "        856       0.00      0.00      0.00         1\n",
      "        871       0.00      0.00      0.00         0\n",
      "        872       0.00      0.00      0.00         1\n",
      "        874       0.00      0.00      0.00         1\n",
      "        879       0.00      0.00      0.00         1\n",
      "        882       0.00      0.00      0.00         1\n",
      "        886       0.00      0.00      0.00         1\n",
      "        892       0.00      0.00      0.00         1\n",
      "        893       0.00      0.00      0.00         1\n",
      "        894       0.00      0.00      0.00         1\n",
      "        904       0.00      0.00      0.00         1\n",
      "        912       0.00      0.00      0.00         1\n",
      "        918       0.00      0.00      0.00         1\n",
      "        921       0.00      0.00      0.00         1\n",
      "        926       0.00      0.00      0.00         1\n",
      "        930       0.00      0.00      0.00         1\n",
      "        932       0.00      0.00      0.00         0\n",
      "        935       0.00      0.00      0.00         1\n",
      "        945       0.00      0.00      0.00         1\n",
      "        947       0.00      0.00      0.00         1\n",
      "        949       0.00      0.00      0.00         1\n",
      "        950       0.00      0.00      0.00         1\n",
      "        952       0.00      0.00      0.00         1\n",
      "        967       0.00      0.00      0.00         1\n",
      "        969       0.00      0.00      0.00         1\n",
      "        971       0.00      0.00      0.00         1\n",
      "        972       0.00      0.00      0.00         1\n",
      "       1000       0.00      0.00      0.00         1\n",
      "       1017       0.00      0.00      0.00         1\n",
      "       1020       0.00      0.00      0.00         1\n",
      "       1024       0.00      0.00      0.00         1\n",
      "       1036       0.00      0.00      0.00         1\n",
      "       1042       0.00      0.00      0.00         1\n",
      "       1046       0.00      0.00      0.00         1\n",
      "       1047       0.00      0.00      0.00         1\n",
      "       1051       0.00      0.00      0.00         1\n",
      "       1052       0.00      0.00      0.00         1\n",
      "       1059       0.00      0.00      0.00         1\n",
      "       1064       0.00      0.00      0.00         1\n",
      "       1065       0.00      0.00      0.00         1\n",
      "       1077       0.00      0.00      0.00         1\n",
      "       1078       0.00      0.00      0.00         1\n",
      "       1080       0.00      0.00      0.00         1\n",
      "       1088       0.00      0.00      0.00         1\n",
      "       1090       0.00      0.00      0.00         1\n",
      "       1091       0.00      0.00      0.00         1\n",
      "       1093       0.00      0.00      0.00         1\n",
      "       1117       0.00      0.00      0.00         1\n",
      "       1123       0.00      0.00      0.00         1\n",
      "       1125       0.00      0.00      0.00         1\n",
      "       1126       0.00      0.00      0.00         1\n",
      "       1127       0.00      0.00      0.00         1\n",
      "       1137       0.00      0.00      0.00         1\n",
      "       1140       0.00      0.00      0.00         1\n",
      "       1142       0.00      0.00      0.00         1\n",
      "       1159       0.00      0.00      0.00         1\n",
      "       1160       0.00      0.00      0.00         1\n",
      "       1165       0.00      0.00      0.00         1\n",
      "       1166       0.00      0.00      0.00         1\n",
      "       1172       0.00      0.00      0.00         1\n",
      "       1173       0.00      0.00      0.00         1\n",
      "       1175       0.00      0.00      0.00         1\n",
      "       1196       0.00      0.00      0.00         1\n",
      "       1197       0.00      0.00      0.00         1\n",
      "       1208       0.00      0.00      0.00         1\n",
      "       1213       0.00      0.00      0.00         1\n",
      "       1217       0.00      0.00      0.00         1\n",
      "       1225       0.00      0.00      0.00         1\n",
      "       1235       0.00      0.00      0.00         1\n",
      "       1236       0.00      0.00      0.00         1\n",
      "       1239       0.00      0.00      0.00         1\n",
      "       1248       0.00      0.00      0.00         1\n",
      "       1252       0.00      0.00      0.00         1\n",
      "       1253       0.00      0.00      0.00         1\n",
      "       1255       0.00      0.00      0.00         1\n",
      "       1258       0.00      0.00      0.00         1\n",
      "       1265       0.00      0.00      0.00         1\n",
      "       1268       0.00      0.00      0.00         1\n",
      "       1291       0.00      0.00      0.00         1\n",
      "       1297       0.00      0.00      0.00         1\n",
      "       1310       0.00      0.00      0.00         1\n",
      "       1317       0.00      0.00      0.00         1\n",
      "       1327       0.00      0.00      0.00         1\n",
      "       1328       0.00      0.00      0.00         1\n",
      "       1331       0.00      0.00      0.00         1\n",
      "       1338       0.00      0.00      0.00         1\n",
      "       1350       0.00      0.00      0.00         1\n",
      "       1351       0.00      0.00      0.00         1\n",
      "       1354       0.00      0.00      0.00         1\n",
      "       1357       0.00      0.00      0.00         1\n",
      "       1360       0.00      0.00      0.00         1\n",
      "       1383       0.00      0.00      0.00         1\n",
      "       1390       0.00      0.00      0.00         1\n",
      "       1395       0.00      0.00      0.00         1\n",
      "       1397       0.00      0.00      0.00         1\n",
      "       1398       0.00      0.00      0.00         1\n",
      "       1399       0.00      0.00      0.00         1\n",
      "       1402       0.00      0.00      0.00         1\n",
      "       1404       0.00      0.00      0.00         1\n",
      "       1408       0.00      0.00      0.00         1\n",
      "       1428       0.00      0.00      0.00         1\n",
      "       1449       0.00      0.00      0.00         1\n",
      "       1451       0.00      0.00      0.00         1\n",
      "       1454       0.00      0.00      0.00         1\n",
      "       1462       0.00      0.00      0.00         1\n",
      "       1463       0.00      0.00      0.00         1\n",
      "       1479       0.00      0.00      0.00         1\n",
      "       1481       0.00      0.00      0.00         1\n",
      "       1489       0.00      0.00      0.00         1\n",
      "       1490       0.00      0.00      0.00         1\n",
      "       1493       0.00      0.00      0.00         1\n",
      "       1497       0.00      0.00      0.00         1\n",
      "       1505       0.00      0.00      0.00         1\n",
      "       1507       0.00      0.00      0.00         1\n",
      "       1511       0.00      0.00      0.00         1\n",
      "       1512       0.00      0.00      0.00         1\n",
      "       1522       0.00      0.00      0.00         1\n",
      "       1539       0.00      0.00      0.00         1\n",
      "       1555       0.00      0.00      0.00         1\n",
      "       1572       0.00      0.00      0.00         1\n",
      "       1605       0.00      0.00      0.00         1\n",
      "       1609       0.00      0.00      0.00         1\n",
      "       1610       0.00      0.00      0.00         1\n",
      "       1613       0.00      0.00      0.00         1\n",
      "       1622       0.00      0.00      0.00         1\n",
      "       1625       0.00      0.00      0.00         1\n",
      "       1630       0.00      0.00      0.00         1\n",
      "       1641       0.00      0.00      0.00         1\n",
      "       1646       0.00      0.00      0.00         1\n",
      "       1647       0.00      0.00      0.00         1\n",
      "       1648       0.00      0.00      0.00         1\n",
      "       1653       0.00      0.00      0.00         1\n",
      "       1656       0.00      0.00      0.00         1\n",
      "       1666       0.00      0.00      0.00         1\n",
      "       1667       0.00      0.00      0.00         1\n",
      "       1670       0.00      0.00      0.00         1\n",
      "       1671       0.00      0.00      0.00         1\n",
      "       1676       0.00      0.00      0.00         1\n",
      "       1678       0.00      0.00      0.00         1\n",
      "       1680       0.00      0.00      0.00         1\n",
      "       1687       0.00      0.00      0.00         1\n",
      "       1688       0.00      0.00      0.00         1\n",
      "       1691       0.00      0.00      0.00         0\n",
      "       1692       0.00      0.00      0.00         1\n",
      "       1694       0.00      0.00      0.00         1\n",
      "       1696       0.00      0.00      0.00         1\n",
      "       1697       0.00      0.00      0.00         1\n",
      "       1712       0.00      0.00      0.00         1\n",
      "       1722       0.00      0.00      0.00         1\n",
      "       1726       0.00      0.00      0.00         1\n",
      "       1729       0.00      0.00      0.00         1\n",
      "       1730       0.00      0.00      0.00         1\n",
      "       1739       0.00      0.00      0.00         1\n",
      "       1740       0.00      0.00      0.00         0\n",
      "       1745       0.00      0.00      0.00         1\n",
      "       1755       0.00      0.00      0.00         1\n",
      "       1759       0.00      0.00      0.00         1\n",
      "       1766       0.00      0.00      0.00         1\n",
      "       1769       0.00      0.00      0.00         1\n",
      "       1770       0.00      0.00      0.00         1\n",
      "       1772       0.00      0.00      0.00         1\n",
      "       1792       0.00      0.00      0.00         1\n",
      "       1805       0.00      0.00      0.00         1\n",
      "       1812       0.00      0.00      0.00         1\n",
      "       1825       0.00      0.00      0.00         1\n",
      "       1829       0.00      0.00      0.00         1\n",
      "       1835       0.00      0.00      0.00         1\n",
      "       1838       0.00      0.00      0.00         1\n",
      "       1851       0.00      0.00      0.00         1\n",
      "       1852       0.00      0.00      0.00         1\n",
      "       1857       0.00      0.00      0.00         1\n",
      "       1858       0.00      0.00      0.00         1\n",
      "       1864       0.00      0.00      0.00         1\n",
      "       1867       0.00      0.00      0.00         1\n",
      "       1872       0.00      0.00      0.00         1\n",
      "       1873       0.00      0.00      0.00         1\n",
      "       1885       0.00      0.00      0.00         1\n",
      "       1893       0.00      0.00      0.00         1\n",
      "       1894       0.00      0.00      0.00         1\n",
      "       1895       0.00      0.00      0.00         1\n",
      "       1900       0.00      0.00      0.00         1\n",
      "       1903       0.00      0.00      0.00         1\n",
      "       1906       0.00      0.00      0.00         1\n",
      "       1907       0.00      0.00      0.00         1\n",
      "       1908       0.00      0.00      0.00         1\n",
      "       1910       0.00      0.00      0.00         1\n",
      "       1912       0.00      0.00      0.00         1\n",
      "       1913       0.00      0.00      0.00         1\n",
      "       1921       0.00      0.00      0.00         1\n",
      "       1926       0.00      0.00      0.00         0\n",
      "       1930       0.00      0.00      0.00         1\n",
      "       1933       0.00      0.00      0.00         1\n",
      "       1941       0.00      0.00      0.00         1\n",
      "       1946       0.00      0.00      0.00         1\n",
      "       1954       0.00      0.00      0.00         1\n",
      "       1960       0.00      0.00      0.00         1\n",
      "       1961       0.00      0.00      0.00         1\n",
      "       1963       0.00      0.00      0.00         1\n",
      "       1968       0.00      0.00      0.00         1\n",
      "       1990       0.00      0.00      0.00         1\n",
      "       1993       0.00      0.00      0.00         1\n",
      "       1994       0.00      0.00      0.00         1\n",
      "       1999       0.00      0.00      0.00         1\n",
      "       2001       0.00      0.00      0.00         1\n",
      "       2002       0.00      0.00      0.00         1\n",
      "       2007       0.00      0.00      0.00         1\n",
      "       2017       0.00      0.00      0.00         0\n",
      "       2026       0.00      0.00      0.00         1\n",
      "       2031       0.00      0.00      0.00         1\n",
      "       2032       0.00      0.00      0.00         1\n",
      "       2033       0.00      0.00      0.00         1\n",
      "       2041       0.00      0.00      0.00         1\n",
      "       2042       0.00      0.00      0.00         1\n",
      "       2054       0.00      0.00      0.00         1\n",
      "       2055       0.00      0.00      0.00         1\n",
      "       2066       0.00      0.00      0.00         1\n",
      "       2067       0.00      0.00      0.00         1\n",
      "       2068       0.00      0.00      0.00         1\n",
      "       2075       0.00      0.00      0.00         1\n",
      "       2076       0.00      0.00      0.00         0\n",
      "       2085       0.00      0.00      0.00         1\n",
      "       2096       0.00      0.00      0.00         1\n",
      "       2100       0.00      0.00      0.00         1\n",
      "       2105       0.00      0.00      0.00         1\n",
      "       2108       0.00      0.00      0.00         1\n",
      "       2111       0.00      0.00      0.00         1\n",
      "       2115       0.00      0.00      0.00         1\n",
      "       2117       0.00      0.00      0.00         1\n",
      "       2119       0.00      0.00      0.00         1\n",
      "       2124       0.00      0.00      0.00         1\n",
      "       2125       0.00      0.00      0.00         1\n",
      "       2126       0.00      0.00      0.00         0\n",
      "       2127       0.00      0.00      0.00         1\n",
      "       2142       0.00      0.00      0.00         1\n",
      "       2144       0.00      0.00      0.00         1\n",
      "       2159       0.00      0.00      0.00         1\n",
      "       2162       0.00      0.00      0.00         1\n",
      "       2177       0.00      0.00      0.00         1\n",
      "       2184       0.00      0.00      0.00         1\n",
      "       2190       0.00      0.00      0.00         1\n",
      "       2194       0.00      0.00      0.00         1\n",
      "       2198       0.00      0.00      0.00         1\n",
      "       2200       0.00      0.00      0.00         1\n",
      "       2208       0.00      0.00      0.00         1\n",
      "       2211       0.00      0.00      0.00         1\n",
      "       2213       0.00      0.00      0.00         1\n",
      "       2223       0.00      0.00      0.00         1\n",
      "       2226       0.00      0.00      0.00         1\n",
      "       2231       0.00      0.00      0.00         1\n",
      "       2233       0.00      0.00      0.00         1\n",
      "       2235       0.00      0.00      0.00         1\n",
      "       2247       0.00      0.00      0.00         1\n",
      "       2266       0.00      0.00      0.00         1\n",
      "       2310       0.00      0.00      0.00         1\n",
      "       2314       0.00      0.00      0.00         1\n",
      "       2326       0.00      0.00      0.00         1\n",
      "       2345       0.00      0.00      0.00         1\n",
      "       2347       0.00      0.00      0.00         1\n",
      "       2349       0.00      0.00      0.00         1\n",
      "       2360       0.00      0.00      0.00         1\n",
      "       2380       0.00      0.00      0.00         1\n",
      "       2384       0.00      0.00      0.00         1\n",
      "       2388       0.00      0.00      0.00         1\n",
      "       2389       0.00      0.00      0.00         1\n",
      "       2396       0.00      0.00      0.00         1\n",
      "       2400       0.00      0.00      0.00         1\n",
      "       2401       0.00      0.00      0.00         1\n",
      "       2402       0.00      0.00      0.00         1\n",
      "       2403       0.00      0.00      0.00         1\n",
      "       2413       0.00      0.00      0.00         1\n",
      "       2414       0.00      0.00      0.00         1\n",
      "       2415       0.00      0.00      0.00         1\n",
      "       2417       0.00      0.00      0.00         1\n",
      "       2419       0.00      0.00      0.00         0\n",
      "       2421       0.00      0.00      0.00         1\n",
      "       2422       0.00      0.00      0.00         0\n",
      "       2423       0.00      0.00      0.00         1\n",
      "       2424       0.00      0.00      0.00         1\n",
      "       2426       0.00      0.00      0.00         1\n",
      "       2427       0.00      0.00      0.00         1\n",
      "       2438       0.00      0.00      0.00         1\n",
      "       2440       0.00      0.00      0.00         1\n",
      "       2441       0.00      0.00      0.00         1\n",
      "       2451       0.00      0.00      0.00         1\n",
      "       2460       0.00      0.00      0.00         1\n",
      "       2473       0.00      0.00      0.00         1\n",
      "       2479       0.00      0.00      0.00         1\n",
      "       2497       0.00      0.00      0.00         0\n",
      "       2502       0.00      0.00      0.00         1\n",
      "       2506       0.00      0.00      0.00         1\n",
      "       2507       0.00      0.00      0.00         1\n",
      "       2509       0.00      0.00      0.00         1\n",
      "       2516       0.00      0.00      0.00         1\n",
      "       2519       0.00      0.00      0.00         1\n",
      "       2521       0.00      0.00      0.00         1\n",
      "       2522       0.00      0.00      0.00         1\n",
      "       2526       0.00      0.00      0.00         1\n",
      "       2538       0.00      0.00      0.00         1\n",
      "       2545       0.00      0.00      0.00         1\n",
      "       2555       0.00      0.00      0.00         1\n",
      "       2558       0.00      0.00      0.00         0\n",
      "       2562       0.00      0.00      0.00         1\n",
      "       2563       0.00      0.00      0.00         1\n",
      "       2569       0.00      0.00      0.00         1\n",
      "       2587       0.00      0.00      0.00         1\n",
      "       2588       0.00      0.00      0.00         1\n",
      "       2604       0.00      0.00      0.00         1\n",
      "       2614       0.00      0.00      0.00         0\n",
      "       2616       0.00      0.00      0.00         1\n",
      "       2625       0.00      0.00      0.00         1\n",
      "       2628       0.00      0.00      0.00         1\n",
      "       2630       0.00      0.00      0.00         1\n",
      "       2644       0.00      0.00      0.00         0\n",
      "       2658       0.00      0.00      0.00         1\n",
      "       2659       0.00      0.00      0.00         1\n",
      "       2660       0.00      0.00      0.00         0\n",
      "       2662       0.00      0.00      0.00         1\n",
      "       2664       0.00      0.00      0.00         1\n",
      "       2666       0.00      0.00      0.00         1\n",
      "       2667       0.00      0.00      0.00         1\n",
      "       2668       0.00      0.00      0.00         1\n",
      "       2669       0.00      0.00      0.00         1\n",
      "       2673       0.00      0.00      0.00         1\n",
      "       2674       0.00      0.00      0.00         1\n",
      "       2677       0.00      0.00      0.00         1\n",
      "       2679       0.00      0.00      0.00         1\n",
      "       2680       0.00      0.00      0.00         1\n",
      "       2684       0.00      0.00      0.00         1\n",
      "       2685       0.00      0.00      0.00         1\n",
      "       2687       0.00      0.00      0.00         1\n",
      "       2692       0.00      0.00      0.00         0\n",
      "\n",
      "avg / total       0.00      0.00      0.00       421\n",
      "\n"
     ]
    },
    {
     "name": "stderr",
     "output_type": "stream",
     "text": [
      "C:\\Users\\nupur\\Anaconda3\\lib\\site-packages\\sklearn\\metrics\\classification.py:1135: UndefinedMetricWarning: Precision and F-score are ill-defined and being set to 0.0 in labels with no predicted samples.\n",
      "  'precision', 'predicted', average, warn_for)\n",
      "C:\\Users\\nupur\\Anaconda3\\lib\\site-packages\\sklearn\\metrics\\classification.py:1137: UndefinedMetricWarning: Recall and F-score are ill-defined and being set to 0.0 in labels with no true samples.\n",
      "  'recall', 'true', average, warn_for)\n"
     ]
    }
   ],
   "source": [
    "#Accuracy calculation\n",
    "\n",
    "from sklearn.metrics import classification_report\n",
    "print (classification_report(y_test, y_pred))"
   ]
  },
  {
   "cell_type": "code",
   "execution_count": 67,
   "metadata": {},
   "outputs": [
    {
     "data": {
      "text/plain": [
       "0.50004911549741971"
      ]
     },
     "execution_count": 67,
     "metadata": {},
     "output_type": "execute_result"
    }
   ],
   "source": [
    "rmse = py.sqrt(metrics.mean_squared_error(y_test, y_pred))\n",
    "rmse\n",
    "\n",
    "y_m = py.mean(y_pred)\n",
    "\n",
    "rmse/y_m"
   ]
  },
  {
   "cell_type": "code",
   "execution_count": 68,
   "metadata": {},
   "outputs": [
    {
     "name": "stderr",
     "output_type": "stream",
     "text": [
      "C:\\Users\\nupur\\Anaconda3\\lib\\site-packages\\sklearn\\utils\\validation.py:578: DataConversionWarning: A column-vector y was passed when a 1d array was expected. Please change the shape of y to (n_samples, ), for example using ravel().\n",
      "  y = column_or_1d(y, warn=True)\n"
     ]
    },
    {
     "data": {
      "text/plain": [
       "[1274.2688658669388,\n",
       " 1274.2688658669388,\n",
       " 1274.2688658669388,\n",
       " 1274.2688658669388,\n",
       " 1274.2688658669388]"
      ]
     },
     "execution_count": 68,
     "metadata": {},
     "output_type": "execute_result"
    }
   ],
   "source": [
    "# RMSE using k-fold cross-validation\n",
    "kf = KFold(len(X), n_folds=5)\n",
    "scores = []\n",
    "for train, test in kf:\n",
    "    linreg.fit(X_train, y_train)\n",
    "    scores.append(py.sqrt(metrics.mean_squared_error(y_test, linreg.predict(X_test))))\n",
    "scores"
   ]
  },
  {
   "cell_type": "code",
   "execution_count": null,
   "metadata": {
    "collapsed": true
   },
   "outputs": [],
   "source": []
  }
 ],
 "metadata": {
  "kernelspec": {
   "display_name": "Python 3",
   "language": "python",
   "name": "python3"
  },
  "language_info": {
   "codemirror_mode": {
    "name": "ipython",
    "version": 3
   },
   "file_extension": ".py",
   "mimetype": "text/x-python",
   "name": "python",
   "nbconvert_exporter": "python",
   "pygments_lexer": "ipython3",
   "version": "3.6.3"
  }
 },
 "nbformat": 4,
 "nbformat_minor": 2
}
