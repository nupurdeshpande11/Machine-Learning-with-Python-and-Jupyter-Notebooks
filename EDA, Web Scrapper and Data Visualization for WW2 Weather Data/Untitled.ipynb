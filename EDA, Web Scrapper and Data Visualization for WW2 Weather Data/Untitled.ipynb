{
 "cells": [
  {
   "cell_type": "code",
   "execution_count": 1,
   "metadata": {
    "collapsed": true
   },
   "outputs": [],
   "source": [
    "import numpy as np # linear algebra\n",
    "import pandas as pd # data processing, CSV file I/O (e.g. pd.read_csv)\n",
    "import matplotlib.pyplot as plt"
   ]
  },
  {
   "cell_type": "code",
   "execution_count": 2,
   "metadata": {
    "collapsed": true
   },
   "outputs": [],
   "source": [
    "from subprocess import check_output"
   ]
  },
  {
   "cell_type": "code",
   "execution_count": 8,
   "metadata": {},
   "outputs": [
    {
     "name": "stdout",
     "output_type": "stream",
     "text": [
      "   Unnamed: 0_x    abv  ibu    id               name_x  \\\n",
      "0             0  0.050  NaN  1436             Pub Beer   \n",
      "1             1  0.066  NaN  2265          Devil's Cup   \n",
      "2             2  0.071  NaN  2264  Rise of the Phoenix   \n",
      "3             3  0.090  NaN  2263             Sinister   \n",
      "4             4  0.075  NaN  2262        Sex and Candy   \n",
      "\n",
      "                            style  brewery_id  ounces  Unnamed: 0_y  \\\n",
      "0             American Pale Lager         408    12.0           408   \n",
      "1         American Pale Ale (APA)         177    12.0           177   \n",
      "2                    American IPA         177    12.0           177   \n",
      "3  American Double / Imperial IPA         177    12.0           177   \n",
      "4                    American IPA         177    12.0           177   \n",
      "\n",
      "                      name_y  city state  \n",
      "0  10 Barrel Brewing Company  Bend    OR  \n",
      "1        18th Street Brewery  Gary    IN  \n",
      "2        18th Street Brewery  Gary    IN  \n",
      "3        18th Street Brewery  Gary    IN  \n",
      "4        18th Street Brewery  Gary    IN  \n"
     ]
    }
   ],
   "source": [
    "df_beer = pd.read_csv(r\"C:\\Users\\nupur\\Downloads\\input\\beers.csv\")\n",
    "df_brew = pd.read_csv(r\"C:\\Users\\nupur\\Downloads\\input\\breweries.csv\")\n",
    "\n",
    "df_brew['brewery_id'] = df_brew.index\n",
    "\n",
    "df = df_beer.merge(df_brew, on=\"brewery_id\")\n",
    "print(df.head())"
   ]
  },
  {
   "cell_type": "code",
   "execution_count": 9,
   "metadata": {
    "collapsed": true
   },
   "outputs": [],
   "source": [
    "df = df.rename(index=str, columns={\"name_x\":\"beer_name\", \"name_y\":\"brewery_name\"})\n",
    "\n",
    "## these 2 columns are just the index as well as the brewery ID repeated"
   ]
  },
  {
   "cell_type": "code",
   "execution_count": 10,
   "metadata": {},
   "outputs": [
    {
     "name": "stdout",
     "output_type": "stream",
     "text": [
      "   abv  ibu    id            beer_name                           style  \\\n",
      "0  5.0  NaN  1436             Pub Beer             American Pale Lager   \n",
      "1  6.6  NaN  2265          Devil's Cup         American Pale Ale (APA)   \n",
      "2  7.1  NaN  2264  Rise of the Phoenix                    American IPA   \n",
      "3  9.0  NaN  2263             Sinister  American Double / Imperial IPA   \n",
      "4  7.5  NaN  2262        Sex and Candy                    American IPA   \n",
      "\n",
      "   brewery_id  ounces               brewery_name  city state  \n",
      "0         408    12.0  10 Barrel Brewing Company  Bend    OR  \n",
      "1         177    12.0        18th Street Brewery  Gary    IN  \n",
      "2         177    12.0        18th Street Brewery  Gary    IN  \n",
      "3         177    12.0        18th Street Brewery  Gary    IN  \n",
      "4         177    12.0        18th Street Brewery  Gary    IN  \n"
     ]
    }
   ],
   "source": [
    "df = df.drop(['Unnamed: 0_x', 'Unnamed: 0_y'], axis=1)\n",
    "## Make ABV a percentage for readability in the plots\n",
    "df['abv'] = df['abv']*100\n",
    "print(df.head())"
   ]
  },
  {
   "cell_type": "code",
   "execution_count": 11,
   "metadata": {
    "collapsed": true
   },
   "outputs": [],
   "source": [
    "plot = df.state.value_counts().plot(kind='bar', title=\"Number of Breweries in Each State\", \\\n",
    "                             figsize=(8,6), colormap='summer')"
   ]
  },
  {
   "cell_type": "code",
   "execution_count": 12,
   "metadata": {},
   "outputs": [
    {
     "data": {
      "text/plain": [
       "<matplotlib.legend.Legend at 0x1c93e941f98>"
      ]
     },
     "execution_count": 12,
     "metadata": {},
     "output_type": "execute_result"
    }
   ],
   "source": [
    "plot.set_xlabel('State')\n",
    "plot.set_ylabel('Number of Breweries')\n",
    "mean_line = plot.axhline(df.state.value_counts().mean(), color='r',\\\n",
    "                         label='Average Number of Breweries')\n",
    "plt.legend()"
   ]
  },
  {
   "cell_type": "code",
   "execution_count": 13,
   "metadata": {},
   "outputs": [
    {
     "data": {
      "text/plain": [
       "Text(0,0.5,'Number of Breweries')"
      ]
     },
     "execution_count": 13,
     "metadata": {},
     "output_type": "execute_result"
    }
   ],
   "source": [
    "plot5 = df.groupby('city')['brewery_name'].count().nlargest(15).plot(kind='bar', \\\n",
    "               title='Cities with the Most Breweries', \\\n",
    "               colormap='summer',  )\n",
    "plot5.set_ylabel('Number of Breweries')"
   ]
  },
  {
   "cell_type": "code",
   "execution_count": 21,
   "metadata": {},
   "outputs": [
    {
     "data": {
      "text/plain": [
       "<matplotlib.legend.Legend at 0x1c93ed0ff60>"
      ]
     },
     "execution_count": 21,
     "metadata": {},
     "output_type": "execute_result"
    }
   ],
   "source": [
    "plot1 = df.groupby('state')['abv'].mean().sort_values(ascending=False).plot(kind='bar',\n",
    "                                                                    title=\"Average Alcohol by Volume Brewed in each State\", \n",
    "                                                                    figsize=(8,6), ylim=(5, 7), colormap='summer')\n",
    "plot1.set_xlabel('State')\n",
    "plot1.set_ylabel('Average % Alcohol Brewed')\n",
    "mean_line1 = plot1.axhline(df.abv.mean(), color='r',\n",
    "                         label='National Average')\n",
    "plt.legend()"
   ]
  },
  {
   "cell_type": "code",
   "execution_count": 15,
   "metadata": {},
   "outputs": [
    {
     "data": {
      "text/plain": [
       "Text(0,0.5,'Average % Alcohol Brewed')"
      ]
     },
     "execution_count": 15,
     "metadata": {},
     "output_type": "execute_result"
    }
   ],
   "source": [
    "## print(df['style'].nunique())\n",
    "## outpuT 99\n",
    "\n",
    "\n",
    "\n",
    "plot2 = df.groupby('style')['abv'].mean().nlargest(15).plot(kind='bar', \\\n",
    "               title='Beer Styles with Highest Average Alcohol by Volume', \\\n",
    "               colormap='summer', ylim=(7.8,11) )\n",
    "plot2.set_ylabel('Average % Alcohol Brewed')"
   ]
  },
  {
   "cell_type": "code",
   "execution_count": 16,
   "metadata": {},
   "outputs": [
    {
     "data": {
      "text/plain": [
       "Text(0,0.5,'Number of Different Beers')"
      ]
     },
     "execution_count": 16,
     "metadata": {},
     "output_type": "execute_result"
    }
   ],
   "source": [
    "plot3 = df.groupby('style')['beer_name'].count().nlargest(15).plot(kind='bar', \\\n",
    "               title='Most Brewed Beer Styles', \\\n",
    "               colormap='summer',  )\n",
    "\n",
    "plot3.set_ylabel('Number of Different Beers')"
   ]
  },
  {
   "cell_type": "code",
   "execution_count": null,
   "metadata": {
    "collapsed": true
   },
   "outputs": [],
   "source": []
  }
 ],
 "metadata": {
  "kernelspec": {
   "display_name": "Python 3",
   "language": "python",
   "name": "python3"
  },
  "language_info": {
   "codemirror_mode": {
    "name": "ipython",
    "version": 3
   },
   "file_extension": ".py",
   "mimetype": "text/x-python",
   "name": "python",
   "nbconvert_exporter": "python",
   "pygments_lexer": "ipython3",
   "version": "3.6.3"
  }
 },
 "nbformat": 4,
 "nbformat_minor": 2
}
